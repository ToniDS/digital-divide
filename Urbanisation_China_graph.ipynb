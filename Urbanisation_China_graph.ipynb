{
 "cells": [
  {
   "cell_type": "code",
   "execution_count": 18,
   "metadata": {
    "collapsed": true
   },
   "outputs": [],
   "source": [
    "import wbdata\n",
    "import pandas as pd\n",
    "import seaborn as sns\n",
    "import matplotlib.pyplot as plt\n",
    "%matplotlib inline"
   ]
  },
  {
   "cell_type": "code",
   "execution_count": 3,
   "metadata": {},
   "outputs": [
    {
     "name": "stdout",
     "output_type": "stream",
     "text": [
      "11\tAfrica Development Indicators\n",
      "36\tStatistical Capacity Indicators\n",
      "31\tCountry Policy and Institutional Assessment\n",
      "41\tCountry Partnership Strategy for India (FY2013 - 17)\n",
      "1 \tDoing Business\n",
      "30\tExporter Dynamics Database ��� Indicators at Country-Year Level\n",
      "12\tEducation Statistics\n",
      "60\tEconomic Fitness\n",
      "13\tEnterprise Surveys\n",
      "28\tGlobal Financial Inclusion\n",
      "33\tG20 Financial Inclusion Indicators\n",
      "14\tGender Statistics\n",
      "15\tGlobal Economic Monitor\n",
      "27\tGlobal Economic Prospects\n",
      "32\tGlobal Financial Development\n",
      "34\tGlobal Partnership for Education\n",
      "29\tThe Atlas of Social Protection: Indicators of Resilience and Equity\n",
      "16\tHealth Nutrition and Population Statistics\n",
      "39\tHealth Nutrition and Population Statistics by Wealth Quintile\n",
      "40\tPopulation estimates and projections\n",
      "18\tIDA Results Measurement System\n",
      "45\tIndonesia Database for Policy and Economic Research\n",
      "6 \tInternational Debt Statistics\n",
      "54\tJoint External Debt Hub\n",
      "25\tJobs\n",
      "37\tLAC Equity Lab\n",
      "19\tMillennium Development Goals\n",
      "24\tPoverty and Equity\n",
      "20\tQuarterly Public Sector Debt\n",
      "23\tQuarterly External Debt Statistics GDDS\n",
      "22\tQuarterly External Debt Statistics SDDS\n",
      "44\tReadiness for Investment in Sustainable Energy\n",
      "46\tSustainable Development Goals \n",
      "35\tSustainable Energy for All\n",
      "5 \tSubnational Malnutrition Database\n",
      "38\tSubnational Poverty\n",
      "50\tSubnational Population\n",
      "58\tUniversal Health Coverage\n",
      "59\tWealth Accounts\n",
      "43\tAdjusted Net Savings\n",
      "57\tWDI Database Archives\n",
      "2 \tWorld Development Indicators\n",
      "3 \tWorldwide Governance Indicators\n"
     ]
    }
   ],
   "source": [
    "wbdata.get_source()"
   ]
  },
  {
   "cell_type": "code",
   "execution_count": 7,
   "metadata": {},
   "outputs": [
    {
     "name": "stdout",
     "output_type": "stream",
     "text": [
      "CHN\tChina\n"
     ]
    }
   ],
   "source": [
    "countries = wbdata.get_country('CHN')"
   ]
  },
  {
   "cell_type": "code",
   "execution_count": 8,
   "metadata": {},
   "outputs": [],
   "source": [
    "indicator = { 'SP.URB.TOTL.IN.ZS': 'Urbanisation'}"
   ]
  },
  {
   "cell_type": "code",
   "execution_count": 9,
   "metadata": {
    "collapsed": true
   },
   "outputs": [],
   "source": [
    "df = wbdata.get_dataframe(indicator, convert_date=False)"
   ]
  },
  {
   "cell_type": "code",
   "execution_count": 20,
   "metadata": {},
   "outputs": [],
   "source": [
    "china_urbanisation = df.loc['China'][::-1]"
   ]
  },
  {
   "cell_type": "code",
   "execution_count": 46,
   "metadata": {},
   "outputs": [
    {
     "data": {
      "image/png": "[encoded data removed]",
      "text/plain": [
       "<matplotlib.figure.Figure at 0x7f4516d77dd8>"
      ]
     },
     "metadata": {},
     "output_type": "display_data"
    }
   ],
   "source": [
    "ax = china_urbanisation.plot(ylim = 0, title = \"Percentage of People Living in Urban Areas\")\n",
    "ax.grid('on', which='major', axis = 'y')\n",
    "#plt.xlim(xmin = 0)"
   ]
  }
 ],
 "metadata": {
  "kernelspec": {
   "display_name": "Python 3 (digital divide)",
   "language": "python",
   "name": "digital_divide"
  },
  "language_info": {
   "codemirror_mode": {
    "name": "ipython",
    "version": 3
   },
   "file_extension": ".py",
   "mimetype": "text/x-python",
   "name": "python",
   "nbconvert_exporter": "python",
   "pygments_lexer": "ipython3",
   "version": "3.6.3"
  }
 },
 "nbformat": 4,
 "nbformat_minor": 2
}
