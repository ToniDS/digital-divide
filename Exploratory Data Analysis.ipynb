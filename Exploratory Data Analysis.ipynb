{
 "cells": [
  {
   "cell_type": "code",
   "execution_count": 3,
   "metadata": {
    "collapsed": true
   },
   "outputs": [],
   "source": [
    "import numpy as np\n",
    "import pandas as pd\n",
    "import scipy\n",
    "import seaborn as sns\n",
    "sns.set_style('whitegrid')\n",
    "import matplotlib.pyplot as plt\n",
    "\n",
    "%matplotlib inline\n",
    "plt.rcParams[\"patch.force_edgecolor\"] = True\n",
    "%store -r new_df\n"
   ]
  },
  {
   "cell_type": "code",
   "execution_count": 5,
   "metadata": {},
   "outputs": [],
   "source": [
    "digital = new_df"
   ]
  },
  {
   "cell_type": "code",
   "execution_count": 6,
   "metadata": {},
   "outputs": [
    {
     "data": {
      "text/html": [
       "<div>\n",
       "<style>\n",
       "    .dataframe thead tr:only-child th {\n",
       "        text-align: right;\n",
       "    }\n",
       "\n",
       "    .dataframe thead th {\n",
       "        text-align: left;\n",
       "    }\n",
       "\n",
       "    .dataframe tbody tr th {\n",
       "        vertical-align: top;\n",
       "    }\n",
       "</style>\n",
       "<table border=\"1\" class=\"dataframe\">\n",
       "  <thead>\n",
       "    <tr style=\"text-align: right;\">\n",
       "      <th></th>\n",
       "      <th>Access Electricity</th>\n",
       "      <th>Cellular %</th>\n",
       "      <th>Fixed broadband %</th>\n",
       "      <th>GDP pcp PPP</th>\n",
       "      <th>Landline %</th>\n",
       "      <th>Secure Servers</th>\n",
       "      <th>Urbanisation</th>\n",
       "      <th>internet_users</th>\n",
       "    </tr>\n",
       "  </thead>\n",
       "  <tbody>\n",
       "    <tr>\n",
       "      <th>count</th>\n",
       "      <td>3572.000000</td>\n",
       "      <td>3924.000000</td>\n",
       "      <td>3904.000000</td>\n",
       "      <td>3915.000000</td>\n",
       "      <td>3916.000000</td>\n",
       "      <td>3896.000000</td>\n",
       "      <td>3948.000000</td>\n",
       "      <td>3889.000000</td>\n",
       "    </tr>\n",
       "    <tr>\n",
       "      <th>mean</th>\n",
       "      <td>75.070279</td>\n",
       "      <td>57.219870</td>\n",
       "      <td>541.798200</td>\n",
       "      <td>14459.653033</td>\n",
       "      <td>18.929920</td>\n",
       "      <td>3349.633291</td>\n",
       "      <td>55.447683</td>\n",
       "      <td>23.656629</td>\n",
       "    </tr>\n",
       "    <tr>\n",
       "      <th>std</th>\n",
       "      <td>33.478636</td>\n",
       "      <td>52.491984</td>\n",
       "      <td>977.152958</td>\n",
       "      <td>17900.726057</td>\n",
       "      <td>18.984450</td>\n",
       "      <td>25668.442665</td>\n",
       "      <td>24.154125</td>\n",
       "      <td>27.131545</td>\n",
       "    </tr>\n",
       "    <tr>\n",
       "      <th>min</th>\n",
       "      <td>0.000000</td>\n",
       "      <td>0.000000</td>\n",
       "      <td>0.000000</td>\n",
       "      <td>0.000000</td>\n",
       "      <td>0.000000</td>\n",
       "      <td>0.000000</td>\n",
       "      <td>7.412000</td>\n",
       "      <td>0.000000</td>\n",
       "    </tr>\n",
       "    <tr>\n",
       "      <th>25%</th>\n",
       "      <td>49.973213</td>\n",
       "      <td>5.686211</td>\n",
       "      <td>0.000000</td>\n",
       "      <td>2509.293321</td>\n",
       "      <td>2.553715</td>\n",
       "      <td>0.000000</td>\n",
       "      <td>34.862750</td>\n",
       "      <td>1.631095</td>\n",
       "    </tr>\n",
       "    <tr>\n",
       "      <th>50%</th>\n",
       "      <td>96.100000</td>\n",
       "      <td>47.621538</td>\n",
       "      <td>17.010518</td>\n",
       "      <td>7700.877635</td>\n",
       "      <td>12.541545</td>\n",
       "      <td>12.000000</td>\n",
       "      <td>55.378000</td>\n",
       "      <td>10.629391</td>\n",
       "    </tr>\n",
       "    <tr>\n",
       "      <th>75%</th>\n",
       "      <td>100.000000</td>\n",
       "      <td>100.603396</td>\n",
       "      <td>583.959213</td>\n",
       "      <td>19947.832275</td>\n",
       "      <td>30.149605</td>\n",
       "      <td>191.000000</td>\n",
       "      <td>74.494250</td>\n",
       "      <td>40.720000</td>\n",
       "    </tr>\n",
       "    <tr>\n",
       "      <th>max</th>\n",
       "      <td>100.000000</td>\n",
       "      <td>332.090701</td>\n",
       "      <td>6173.884929</td>\n",
       "      <td>140037.115597</td>\n",
       "      <td>110.191151</td>\n",
       "      <td>530309.000000</td>\n",
       "      <td>100.000000</td>\n",
       "      <td>98.323610</td>\n",
       "    </tr>\n",
       "  </tbody>\n",
       "</table>\n",
       "</div>"
      ],
      "text/plain": [
       "       Access Electricity   Cellular %  Fixed broadband %    GDP pcp PPP  \\\n",
       "count         3572.000000  3924.000000        3904.000000    3915.000000   \n",
       "mean            75.070279    57.219870         541.798200   14459.653033   \n",
       "std             33.478636    52.491984         977.152958   17900.726057   \n",
       "min              0.000000     0.000000           0.000000       0.000000   \n",
       "25%             49.973213     5.686211           0.000000    2509.293321   \n",
       "50%             96.100000    47.621538          17.010518    7700.877635   \n",
       "75%            100.000000   100.603396         583.959213   19947.832275   \n",
       "max            100.000000   332.090701        6173.884929  140037.115597   \n",
       "\n",
       "        Landline %  Secure Servers  Urbanisation  internet_users  \n",
       "count  3916.000000     3896.000000   3948.000000     3889.000000  \n",
       "mean     18.929920     3349.633291     55.447683       23.656629  \n",
       "std      18.984450    25668.442665     24.154125       27.131545  \n",
       "min       0.000000        0.000000      7.412000        0.000000  \n",
       "25%       2.553715        0.000000     34.862750        1.631095  \n",
       "50%      12.541545       12.000000     55.378000       10.629391  \n",
       "75%      30.149605      191.000000     74.494250       40.720000  \n",
       "max     110.191151   530309.000000    100.000000       98.323610  "
      ]
     },
     "execution_count": 6,
     "metadata": {},
     "output_type": "execute_result"
    }
   ],
   "source": [
    "digital.describe()"
   ]
  },
  {
   "cell_type": "markdown",
   "metadata": {},
   "source": [
    "Charts to visualize: First, let's take a look at distribution of internet_users by year/country"
   ]
  },
  {
   "cell_type": "code",
   "execution_count": 8,
   "metadata": {},
   "outputs": [],
   "source": [
    "#for that, we drop all NaNs that are still extant\n",
    "\n",
    "digital['internet_users'].dropna(inplace = True)"
   ]
  },
  {
   "cell_type": "code",
   "execution_count": 13,
   "metadata": {},
   "outputs": [],
   "source": [
    "#make it easier to work with by having the two important columns\n",
    "digital.reset_index(inplace = True)"
   ]
  },
  {
   "cell_type": "code",
   "execution_count": 22,
   "metadata": {},
   "outputs": [
    {
     "data": {
      "text/plain": [
       "<matplotlib.axes._subplots.AxesSubplot at 0x7f50212520b8>"
      ]
     },
     "execution_count": 22,
     "metadata": {},
     "output_type": "execute_result"
    },
    {
     "name": "stderr",
     "output_type": "stream",
     "text": [
      "/home/antonia/.conda/envs/my_root/lib/python3.6/site-packages/matplotlib/font_manager.py:1297: UserWarning: findfont: Font family ['sans-serif'] not found. Falling back to DejaVu Sans\n",
      "  (prop.get_family(), self.defaultFamily[fontext]))\n"
     ]
    },
    {
     "data": {
      "image/png": "[encoded data removed]",
      "text/plain": [
       "<matplotlib.figure.Figure at 0x7f5020e93400>"
      ]
     },
     "metadata": {},
     "output_type": "display_data"
    }
   ],
   "source": [
    "ger = digital[digital['country'] == 'Germany']\n",
    "sns.tsplot(ger['internet_users'], time = ger['date'])\n"
   ]
  },
  {
   "cell_type": "code",
   "execution_count": 26,
   "metadata": {},
   "outputs": [
    {
     "data": {
      "text/plain": [
       "<matplotlib.axes._subplots.AxesSubplot at 0x7f50210bdeb8>"
      ]
     },
     "execution_count": 26,
     "metadata": {},
     "output_type": "execute_result"
    },
    {
     "name": "stderr",
     "output_type": "stream",
     "text": [
      "/home/antonia/.conda/envs/my_root/lib/python3.6/site-packages/matplotlib/font_manager.py:1297: UserWarning: findfont: Font family ['sans-serif'] not found. Falling back to DejaVu Sans\n",
      "  (prop.get_family(), self.defaultFamily[fontext]))\n"
     ]
    },
    {
     "data": {
      "image/png": "[encoded data removed]",
      "text/plain": [
       "<matplotlib.figure.Figure at 0x7f5020de8518>"
      ]
     },
     "metadata": {},
     "output_type": "display_data"
    }
   ],
   "source": []
  },
  {
   "cell_type": "code",
   "execution_count": null,
   "metadata": {
    "collapsed": true
   },
   "outputs": [],
   "source": []
  }
 ],
 "metadata": {
  "kernelspec": {
   "display_name": "Python 3",
   "language": "python",
   "name": "python3"
  },
  "language_info": {
   "codemirror_mode": {
    "name": "ipython",
    "version": 3
   },
   "file_extension": ".py",
   "mimetype": "text/x-python",
   "name": "python",
   "nbconvert_exporter": "python",
   "pygments_lexer": "ipython3",
   "version": "3.6.1"
  }
 },
 "nbformat": 4,
 "nbformat_minor": 2
}
