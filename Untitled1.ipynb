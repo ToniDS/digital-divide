{
 "cells": [
  {
   "cell_type": "code",
   "execution_count": 2,
   "metadata": {},
   "outputs": [
    {
     "name": "stderr",
     "output_type": "stream",
     "text": [
      "Installing package into ‘/home/toni/R/x86_64-pc-linux-gnu-library/3.5’\n",
      "(as ‘lib’ is unspecified)\n",
      "also installing the dependencies ‘praise’, ‘colorspace’, ‘testthat’, ‘highr’, ‘markdown’, ‘xfun’, ‘bindr’, ‘labeling’, ‘munsell’, ‘RColorBrewer’, ‘rematch’, ‘processx’, ‘knitr’, ‘yaml’, ‘rprojroot’, ‘tinytex’, ‘fansi’, ‘utf8’, ‘backports’, ‘reshape2’, ‘assertthat’, ‘bindrcpp’, ‘pkgconfig’, ‘tidyselect’, ‘BH’, ‘plogr’, ‘DBI’, ‘gtable’, ‘lazyeval’, ‘plyr’, ‘scales’, ‘viridisLite’, ‘cellranger’, ‘callr’, ‘clipr’, ‘rmarkdown’, ‘selectr’, ‘pillar’, ‘broom’, ‘cli’, ‘dplyr’, ‘dbplyr’, ‘forcats’, ‘ggplot2’, ‘haven’, ‘hms’, ‘lubridate’, ‘modelr’, ‘purrr’, ‘readr’, ‘readxl’, ‘reprex’, ‘rlang’, ‘rvest’, ‘tibble’, ‘tidyr’, ‘xml2’\n",
      "\n",
      "Warning message in install.packages(\"tidyverse\"):\n",
      "“installation of package ‘dplyr’ had non-zero exit status”Warning message in install.packages(\"tidyverse\"):\n",
      "“installation of package ‘dbplyr’ had non-zero exit status”Warning message in install.packages(\"tidyverse\"):\n",
      "“installation of package ‘tidyr’ had non-zero exit status”Warning message in install.packages(\"tidyverse\"):\n",
      "“installation of package ‘broom’ had non-zero exit status”Warning message in install.packages(\"tidyverse\"):\n",
      "“installation of package ‘modelr’ had non-zero exit status”Warning message in install.packages(\"tidyverse\"):\n",
      "“installation of package ‘tidyverse’ had non-zero exit status”"
     ]
    },
    {
     "ename": "ERROR",
     "evalue": "Error in library(tidyverse): there is no package called ‘tidyverse’\n",
     "output_type": "error",
     "traceback": [
      "Error in library(tidyverse): there is no package called ‘tidyverse’\nTraceback:\n",
      "1. library(tidyverse)",
      "2. stop(txt, domain = NA)"
     ]
    }
   ],
   "source": [
    "library(tidyverse)\n",
    "library(plm)"
   ]
  }
 ],
 "metadata": {
  "kernelspec": {
   "display_name": "R",
   "language": "R",
   "name": "ir"
  },
  "language_info": {
   "codemirror_mode": "r",
   "file_extension": ".r",
   "mimetype": "text/x-r-source",
   "name": "R",
   "pygments_lexer": "r",
   "version": "3.5.1"
  }
 },
 "nbformat": 4,
 "nbformat_minor": 2
}
