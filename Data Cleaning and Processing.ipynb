{
 "cells": [
  {
   "cell_type": "code",
   "execution_count": 112,
   "metadata": {
    "collapsed": true
   },
   "outputs": [],
   "source": [
    "import numpy as np\n",
    "import pandas as pd\n",
    "import scipy\n",
    "import seaborn as sns\n",
    "sns.set_style('whitegrid')\n",
    "import matplotlib.pyplot as plt\n",
    "\n",
    "%matplotlib inline\n",
    "plt.rcParams[\"patch.force_edgecolor\"] = True"
   ]
  },
  {
   "cell_type": "code",
   "execution_count": 113,
   "metadata": {
    "collapsed": true
   },
   "outputs": [],
   "source": [
    "digital = pd.read_csv('WB_Data_Digital.csv')"
   ]
  },
  {
   "cell_type": "code",
   "execution_count": 114,
   "metadata": {},
   "outputs": [
    {
     "data": {
      "text/html": [
       "<div>\n",
       "<style>\n",
       "    .dataframe thead tr:only-child th {\n",
       "        text-align: right;\n",
       "    }\n",
       "\n",
       "    .dataframe thead th {\n",
       "        text-align: left;\n",
       "    }\n",
       "\n",
       "    .dataframe tbody tr th {\n",
       "        vertical-align: top;\n",
       "    }\n",
       "</style>\n",
       "<table border=\"1\" class=\"dataframe\">\n",
       "  <thead>\n",
       "    <tr style=\"text-align: right;\">\n",
       "      <th></th>\n",
       "      <th>date</th>\n",
       "      <th>Access Electricity</th>\n",
       "      <th>Cellular %</th>\n",
       "      <th>Fixed broadband %</th>\n",
       "      <th>GDP pcp PPP</th>\n",
       "      <th>Landline %</th>\n",
       "      <th>Secure Servers</th>\n",
       "      <th>Urbanisation</th>\n",
       "      <th>internet_users</th>\n",
       "    </tr>\n",
       "  </thead>\n",
       "  <tbody>\n",
       "    <tr>\n",
       "      <th>count</th>\n",
       "      <td>15048.000000</td>\n",
       "      <td>6327.000000</td>\n",
       "      <td>11110.000000</td>\n",
       "      <td>3471.000000</td>\n",
       "      <td>6163.000000</td>\n",
       "      <td>10644.000000</td>\n",
       "      <td>3.468000e+03</td>\n",
       "      <td>14812.000000</td>\n",
       "      <td>5971.000000</td>\n",
       "    </tr>\n",
       "    <tr>\n",
       "      <th>mean</th>\n",
       "      <td>1988.000000</td>\n",
       "      <td>75.378670</td>\n",
       "      <td>26.254614</td>\n",
       "      <td>8.257723</td>\n",
       "      <td>12560.664561</td>\n",
       "      <td>15.201152</td>\n",
       "      <td>2.512483e+04</td>\n",
       "      <td>49.032608</td>\n",
       "      <td>20.451865</td>\n",
       "    </tr>\n",
       "    <tr>\n",
       "      <th>std</th>\n",
       "      <td>16.452497</td>\n",
       "      <td>31.939342</td>\n",
       "      <td>44.148627</td>\n",
       "      <td>11.058274</td>\n",
       "      <td>15752.445937</td>\n",
       "      <td>18.200400</td>\n",
       "      <td>1.306863e+05</td>\n",
       "      <td>24.946722</td>\n",
       "      <td>25.932653</td>\n",
       "    </tr>\n",
       "    <tr>\n",
       "      <th>min</th>\n",
       "      <td>1960.000000</td>\n",
       "      <td>0.013999</td>\n",
       "      <td>0.000000</td>\n",
       "      <td>0.000000</td>\n",
       "      <td>242.001214</td>\n",
       "      <td>0.000000</td>\n",
       "      <td>1.000000e+00</td>\n",
       "      <td>2.077000</td>\n",
       "      <td>0.000000</td>\n",
       "    </tr>\n",
       "    <tr>\n",
       "      <th>25%</th>\n",
       "      <td>1974.000000</td>\n",
       "      <td>54.809769</td>\n",
       "      <td>0.000000</td>\n",
       "      <td>0.217773</td>\n",
       "      <td>2395.067348</td>\n",
       "      <td>1.259306</td>\n",
       "      <td>1.500000e+01</td>\n",
       "      <td>28.625000</td>\n",
       "      <td>0.527921</td>\n",
       "    </tr>\n",
       "    <tr>\n",
       "      <th>50%</th>\n",
       "      <td>1988.000000</td>\n",
       "      <td>93.496567</td>\n",
       "      <td>0.123355</td>\n",
       "      <td>2.634720</td>\n",
       "      <td>6590.007598</td>\n",
       "      <td>7.405218</td>\n",
       "      <td>1.240000e+02</td>\n",
       "      <td>47.074000</td>\n",
       "      <td>7.000000</td>\n",
       "    </tr>\n",
       "    <tr>\n",
       "      <th>75%</th>\n",
       "      <td>2002.000000</td>\n",
       "      <td>100.000000</td>\n",
       "      <td>39.477075</td>\n",
       "      <td>12.516049</td>\n",
       "      <td>16379.007027</td>\n",
       "      <td>23.241221</td>\n",
       "      <td>1.812750e+03</td>\n",
       "      <td>68.499750</td>\n",
       "      <td>34.509663</td>\n",
       "    </tr>\n",
       "    <tr>\n",
       "      <th>max</th>\n",
       "      <td>2016.000000</td>\n",
       "      <td>100.000000</td>\n",
       "      <td>332.090701</td>\n",
       "      <td>61.738849</td>\n",
       "      <td>140037.115597</td>\n",
       "      <td>132.953292</td>\n",
       "      <td>1.590393e+06</td>\n",
       "      <td>100.000000</td>\n",
       "      <td>98.323610</td>\n",
       "    </tr>\n",
       "  </tbody>\n",
       "</table>\n",
       "</div>"
      ],
      "text/plain": [
       "               date  Access Electricity    Cellular %  Fixed broadband %  \\\n",
       "count  15048.000000         6327.000000  11110.000000        3471.000000   \n",
       "mean    1988.000000           75.378670     26.254614           8.257723   \n",
       "std       16.452497           31.939342     44.148627          11.058274   \n",
       "min     1960.000000            0.013999      0.000000           0.000000   \n",
       "25%     1974.000000           54.809769      0.000000           0.217773   \n",
       "50%     1988.000000           93.496567      0.123355           2.634720   \n",
       "75%     2002.000000          100.000000     39.477075          12.516049   \n",
       "max     2016.000000          100.000000    332.090701          61.738849   \n",
       "\n",
       "         GDP pcp PPP    Landline %  Secure Servers  Urbanisation  \\\n",
       "count    6163.000000  10644.000000    3.468000e+03  14812.000000   \n",
       "mean    12560.664561     15.201152    2.512483e+04     49.032608   \n",
       "std     15752.445937     18.200400    1.306863e+05     24.946722   \n",
       "min       242.001214      0.000000    1.000000e+00      2.077000   \n",
       "25%      2395.067348      1.259306    1.500000e+01     28.625000   \n",
       "50%      6590.007598      7.405218    1.240000e+02     47.074000   \n",
       "75%     16379.007027     23.241221    1.812750e+03     68.499750   \n",
       "max    140037.115597    132.953292    1.590393e+06    100.000000   \n",
       "\n",
       "       internet_users  \n",
       "count     5971.000000  \n",
       "mean        20.451865  \n",
       "std         25.932653  \n",
       "min          0.000000  \n",
       "25%          0.527921  \n",
       "50%          7.000000  \n",
       "75%         34.509663  \n",
       "max         98.323610  "
      ]
     },
     "execution_count": 114,
     "metadata": {},
     "output_type": "execute_result"
    }
   ],
   "source": [
    "digital.describe()"
   ]
  },
  {
   "cell_type": "code",
   "execution_count": 115,
   "metadata": {},
   "outputs": [
    {
     "data": {
      "text/html": [
       "<div>\n",
       "<style>\n",
       "    .dataframe thead tr:only-child th {\n",
       "        text-align: right;\n",
       "    }\n",
       "\n",
       "    .dataframe thead th {\n",
       "        text-align: left;\n",
       "    }\n",
       "\n",
       "    .dataframe tbody tr th {\n",
       "        vertical-align: top;\n",
       "    }\n",
       "</style>\n",
       "<table border=\"1\" class=\"dataframe\">\n",
       "  <thead>\n",
       "    <tr style=\"text-align: right;\">\n",
       "      <th></th>\n",
       "      <th>country</th>\n",
       "      <th>date</th>\n",
       "      <th>Access Electricity</th>\n",
       "      <th>Cellular %</th>\n",
       "      <th>Fixed broadband %</th>\n",
       "      <th>GDP pcp PPP</th>\n",
       "      <th>Landline %</th>\n",
       "      <th>Secure Servers</th>\n",
       "      <th>Urbanisation</th>\n",
       "      <th>internet_users</th>\n",
       "    </tr>\n",
       "  </thead>\n",
       "  <tbody>\n",
       "    <tr>\n",
       "      <th>0</th>\n",
       "      <td>Arab World</td>\n",
       "      <td>2016</td>\n",
       "      <td>NaN</td>\n",
       "      <td>106.771721</td>\n",
       "      <td>5.178232</td>\n",
       "      <td>16716.288471</td>\n",
       "      <td>7.717155</td>\n",
       "      <td>9592.0</td>\n",
       "      <td>58.093929</td>\n",
       "      <td>42.026887</td>\n",
       "    </tr>\n",
       "    <tr>\n",
       "      <th>1</th>\n",
       "      <td>Arab World</td>\n",
       "      <td>2015</td>\n",
       "      <td>NaN</td>\n",
       "      <td>108.936173</td>\n",
       "      <td>4.744565</td>\n",
       "      <td>16281.527462</td>\n",
       "      <td>7.822209</td>\n",
       "      <td>8731.0</td>\n",
       "      <td>57.808210</td>\n",
       "      <td>39.867463</td>\n",
       "    </tr>\n",
       "    <tr>\n",
       "      <th>2</th>\n",
       "      <td>Arab World</td>\n",
       "      <td>2014</td>\n",
       "      <td>88.039125</td>\n",
       "      <td>109.920674</td>\n",
       "      <td>4.015257</td>\n",
       "      <td>15911.406182</td>\n",
       "      <td>7.977798</td>\n",
       "      <td>7354.0</td>\n",
       "      <td>57.508740</td>\n",
       "      <td>36.483014</td>\n",
       "    </tr>\n",
       "    <tr>\n",
       "      <th>3</th>\n",
       "      <td>Arab World</td>\n",
       "      <td>2013</td>\n",
       "      <td>87.604961</td>\n",
       "      <td>110.012610</td>\n",
       "      <td>3.503220</td>\n",
       "      <td>15526.354503</td>\n",
       "      <td>8.898927</td>\n",
       "      <td>5299.0</td>\n",
       "      <td>57.196269</td>\n",
       "      <td>32.984679</td>\n",
       "    </tr>\n",
       "    <tr>\n",
       "      <th>4</th>\n",
       "      <td>Arab World</td>\n",
       "      <td>2012</td>\n",
       "      <td>86.846966</td>\n",
       "      <td>105.037175</td>\n",
       "      <td>3.123043</td>\n",
       "      <td>15090.166147</td>\n",
       "      <td>9.590047</td>\n",
       "      <td>4865.0</td>\n",
       "      <td>56.871351</td>\n",
       "      <td>30.274491</td>\n",
       "    </tr>\n",
       "  </tbody>\n",
       "</table>\n",
       "</div>"
      ],
      "text/plain": [
       "      country  date  Access Electricity  Cellular %  Fixed broadband %  \\\n",
       "0  Arab World  2016                 NaN  106.771721           5.178232   \n",
       "1  Arab World  2015                 NaN  108.936173           4.744565   \n",
       "2  Arab World  2014           88.039125  109.920674           4.015257   \n",
       "3  Arab World  2013           87.604961  110.012610           3.503220   \n",
       "4  Arab World  2012           86.846966  105.037175           3.123043   \n",
       "\n",
       "    GDP pcp PPP  Landline %  Secure Servers  Urbanisation  internet_users  \n",
       "0  16716.288471    7.717155          9592.0     58.093929       42.026887  \n",
       "1  16281.527462    7.822209          8731.0     57.808210       39.867463  \n",
       "2  15911.406182    7.977798          7354.0     57.508740       36.483014  \n",
       "3  15526.354503    8.898927          5299.0     57.196269       32.984679  \n",
       "4  15090.166147    9.590047          4865.0     56.871351       30.274491  "
      ]
     },
     "execution_count": 115,
     "metadata": {},
     "output_type": "execute_result"
    }
   ],
   "source": [
    "digital.head()"
   ]
  },
  {
   "cell_type": "code",
   "execution_count": 116,
   "metadata": {},
   "outputs": [
    {
     "data": {
      "text/html": [
       "<div>\n",
       "<style>\n",
       "    .dataframe thead tr:only-child th {\n",
       "        text-align: right;\n",
       "    }\n",
       "\n",
       "    .dataframe thead th {\n",
       "        text-align: left;\n",
       "    }\n",
       "\n",
       "    .dataframe tbody tr th {\n",
       "        vertical-align: top;\n",
       "    }\n",
       "</style>\n",
       "<table border=\"1\" class=\"dataframe\">\n",
       "  <thead>\n",
       "    <tr style=\"text-align: right;\">\n",
       "      <th></th>\n",
       "      <th>date</th>\n",
       "      <th>Access Electricity</th>\n",
       "      <th>Cellular %</th>\n",
       "      <th>Fixed broadband %</th>\n",
       "      <th>GDP pcp PPP</th>\n",
       "      <th>Landline %</th>\n",
       "      <th>Secure Servers</th>\n",
       "      <th>Urbanisation</th>\n",
       "      <th>internet_users</th>\n",
       "    </tr>\n",
       "    <tr>\n",
       "      <th>country</th>\n",
       "      <th></th>\n",
       "      <th></th>\n",
       "      <th></th>\n",
       "      <th></th>\n",
       "      <th></th>\n",
       "      <th></th>\n",
       "      <th></th>\n",
       "      <th></th>\n",
       "      <th></th>\n",
       "    </tr>\n",
       "  </thead>\n",
       "  <tbody>\n",
       "    <tr>\n",
       "      <th>Afghanistan</th>\n",
       "      <td>1988</td>\n",
       "      <td>33.680401</td>\n",
       "      <td>10.649369</td>\n",
       "      <td>0.006668</td>\n",
       "      <td>1422.504265</td>\n",
       "      <td>0.203468</td>\n",
       "      <td>18.428571</td>\n",
       "      <td>17.610807</td>\n",
       "      <td>3.354972</td>\n",
       "    </tr>\n",
       "    <tr>\n",
       "      <th>Albania</th>\n",
       "      <td>1988</td>\n",
       "      <td>100.000000</td>\n",
       "      <td>25.747191</td>\n",
       "      <td>4.168546</td>\n",
       "      <td>6048.470579</td>\n",
       "      <td>4.197885</td>\n",
       "      <td>37.866667</td>\n",
       "      <td>39.016860</td>\n",
       "      <td>21.555784</td>\n",
       "    </tr>\n",
       "    <tr>\n",
       "      <th>Algeria</th>\n",
       "      <td>1988</td>\n",
       "      <td>97.109370</td>\n",
       "      <td>23.989855</td>\n",
       "      <td>2.376974</td>\n",
       "      <td>9983.954726</td>\n",
       "      <td>4.483678</td>\n",
       "      <td>39.928571</td>\n",
       "      <td>51.176053</td>\n",
       "      <td>9.692493</td>\n",
       "    </tr>\n",
       "    <tr>\n",
       "      <th>American Samoa</th>\n",
       "      <td>1988</td>\n",
       "      <td>NaN</td>\n",
       "      <td>1.222129</td>\n",
       "      <td>NaN</td>\n",
       "      <td>NaN</td>\n",
       "      <td>16.235057</td>\n",
       "      <td>6.000000</td>\n",
       "      <td>79.241333</td>\n",
       "      <td>0.000000</td>\n",
       "    </tr>\n",
       "    <tr>\n",
       "      <th>Andorra</th>\n",
       "      <td>1988</td>\n",
       "      <td>100.000000</td>\n",
       "      <td>29.866274</td>\n",
       "      <td>24.680914</td>\n",
       "      <td>NaN</td>\n",
       "      <td>37.710667</td>\n",
       "      <td>58.533333</td>\n",
       "      <td>86.674982</td>\n",
       "      <td>48.592382</td>\n",
       "    </tr>\n",
       "    <tr>\n",
       "      <th>Angola</th>\n",
       "      <td>1988</td>\n",
       "      <td>40.351241</td>\n",
       "      <td>12.336649</td>\n",
       "      <td>0.194168</td>\n",
       "      <td>3957.716562</td>\n",
       "      <td>0.610448</td>\n",
       "      <td>53.071429</td>\n",
       "      <td>25.582298</td>\n",
       "      <td>3.040326</td>\n",
       "    </tr>\n",
       "    <tr>\n",
       "      <th>Antigua and Barbuda</th>\n",
       "      <td>1988</td>\n",
       "      <td>89.223401</td>\n",
       "      <td>54.195114</td>\n",
       "      <td>9.055788</td>\n",
       "      <td>16435.471790</td>\n",
       "      <td>29.474943</td>\n",
       "      <td>57.692308</td>\n",
       "      <td>32.813123</td>\n",
       "      <td>29.976907</td>\n",
       "    </tr>\n",
       "    <tr>\n",
       "      <th>Arab World</th>\n",
       "      <td>1988</td>\n",
       "      <td>80.892998</td>\n",
       "      <td>22.985322</td>\n",
       "      <td>2.346970</td>\n",
       "      <td>11056.356733</td>\n",
       "      <td>5.292748</td>\n",
       "      <td>3781.753846</td>\n",
       "      <td>47.320141</td>\n",
       "      <td>14.100129</td>\n",
       "    </tr>\n",
       "    <tr>\n",
       "      <th>Argentina</th>\n",
       "      <td>1988</td>\n",
       "      <td>95.709432</td>\n",
       "      <td>37.324288</td>\n",
       "      <td>8.126708</td>\n",
       "      <td>13914.791772</td>\n",
       "      <td>15.060986</td>\n",
       "      <td>1169.933333</td>\n",
       "      <td>84.847965</td>\n",
       "      <td>23.140497</td>\n",
       "    </tr>\n",
       "    <tr>\n",
       "      <th>Armenia</th>\n",
       "      <td>1988</td>\n",
       "      <td>98.984608</td>\n",
       "      <td>23.602978</td>\n",
       "      <td>3.651270</td>\n",
       "      <td>4416.972091</td>\n",
       "      <td>15.845438</td>\n",
       "      <td>56.000000</td>\n",
       "      <td>63.115053</td>\n",
       "      <td>15.261454</td>\n",
       "    </tr>\n",
       "    <tr>\n",
       "      <th>Aruba</th>\n",
       "      <td>1988</td>\n",
       "      <td>91.834406</td>\n",
       "      <td>38.443045</td>\n",
       "      <td>14.683483</td>\n",
       "      <td>35973.780510</td>\n",
       "      <td>32.239375</td>\n",
       "      <td>30.733333</td>\n",
       "      <td>48.266298</td>\n",
       "      <td>42.330053</td>\n",
       "    </tr>\n",
       "    <tr>\n",
       "      <th>Australia</th>\n",
       "      <td>1988</td>\n",
       "      <td>100.000000</td>\n",
       "      <td>37.395334</td>\n",
       "      <td>18.163394</td>\n",
       "      <td>31196.588544</td>\n",
       "      <td>41.154663</td>\n",
       "      <td>23868.000000</td>\n",
       "      <td>86.130333</td>\n",
       "      <td>46.675617</td>\n",
       "    </tr>\n",
       "    <tr>\n",
       "      <th>Austria</th>\n",
       "      <td>1988</td>\n",
       "      <td>100.000000</td>\n",
       "      <td>49.868920</td>\n",
       "      <td>17.292337</td>\n",
       "      <td>33705.949209</td>\n",
       "      <td>37.721520</td>\n",
       "      <td>6062.200000</td>\n",
       "      <td>65.547123</td>\n",
       "      <td>43.242725</td>\n",
       "    </tr>\n",
       "    <tr>\n",
       "      <th>Azerbaijan</th>\n",
       "      <td>1988</td>\n",
       "      <td>98.050443</td>\n",
       "      <td>24.239112</td>\n",
       "      <td>8.387688</td>\n",
       "      <td>8628.129126</td>\n",
       "      <td>10.229280</td>\n",
       "      <td>51.000000</td>\n",
       "      <td>52.437667</td>\n",
       "      <td>24.457607</td>\n",
       "    </tr>\n",
       "    <tr>\n",
       "      <th>Bahamas, The</th>\n",
       "      <td>1988</td>\n",
       "      <td>96.146860</td>\n",
       "      <td>28.472667</td>\n",
       "      <td>9.799191</td>\n",
       "      <td>20273.337509</td>\n",
       "      <td>28.358654</td>\n",
       "      <td>86.333333</td>\n",
       "      <td>75.423368</td>\n",
       "      <td>31.306882</td>\n",
       "    </tr>\n",
       "    <tr>\n",
       "      <th>Bahrain</th>\n",
       "      <td>1988</td>\n",
       "      <td>100.000000</td>\n",
       "      <td>45.080757</td>\n",
       "      <td>10.864393</td>\n",
       "      <td>36496.614310</td>\n",
       "      <td>18.109904</td>\n",
       "      <td>115.466667</td>\n",
       "      <td>86.563491</td>\n",
       "      <td>37.931310</td>\n",
       "    </tr>\n",
       "    <tr>\n",
       "      <th>Bangladesh</th>\n",
       "      <td>1988</td>\n",
       "      <td>36.011388</td>\n",
       "      <td>13.093786</td>\n",
       "      <td>1.098673</td>\n",
       "      <td>1784.428963</td>\n",
       "      <td>0.358383</td>\n",
       "      <td>70.533333</td>\n",
       "      <td>18.304614</td>\n",
       "      <td>3.607755</td>\n",
       "    </tr>\n",
       "    <tr>\n",
       "      <th>Barbados</th>\n",
       "      <td>1988</td>\n",
       "      <td>100.000000</td>\n",
       "      <td>33.574754</td>\n",
       "      <td>19.732893</td>\n",
       "      <td>12457.865324</td>\n",
       "      <td>32.265911</td>\n",
       "      <td>79.333333</td>\n",
       "      <td>35.155456</td>\n",
       "      <td>40.707940</td>\n",
       "    </tr>\n",
       "    <tr>\n",
       "      <th>Belarus</th>\n",
       "      <td>1988</td>\n",
       "      <td>100.000000</td>\n",
       "      <td>27.333283</td>\n",
       "      <td>13.888722</td>\n",
       "      <td>10076.355092</td>\n",
       "      <td>22.344763</td>\n",
       "      <td>180.666667</td>\n",
       "      <td>59.926281</td>\n",
       "      <td>22.478781</td>\n",
       "    </tr>\n",
       "    <tr>\n",
       "      <th>Belgium</th>\n",
       "      <td>1988</td>\n",
       "      <td>100.000000</td>\n",
       "      <td>38.493340</td>\n",
       "      <td>21.467152</td>\n",
       "      <td>31738.152629</td>\n",
       "      <td>36.454091</td>\n",
       "      <td>4836.266667</td>\n",
       "      <td>95.777667</td>\n",
       "      <td>42.018638</td>\n",
       "    </tr>\n",
       "    <tr>\n",
       "      <th>Belize</th>\n",
       "      <td>1988</td>\n",
       "      <td>85.154197</td>\n",
       "      <td>16.556350</td>\n",
       "      <td>2.865643</td>\n",
       "      <td>6238.611939</td>\n",
       "      <td>8.392221</td>\n",
       "      <td>79.666667</td>\n",
       "      <td>48.485842</td>\n",
       "      <td>18.918994</td>\n",
       "    </tr>\n",
       "    <tr>\n",
       "      <th>Benin</th>\n",
       "      <td>1988</td>\n",
       "      <td>23.031572</td>\n",
       "      <td>16.236305</td>\n",
       "      <td>0.249444</td>\n",
       "      <td>1492.964854</td>\n",
       "      <td>0.647201</td>\n",
       "      <td>10.384615</td>\n",
       "      <td>29.965596</td>\n",
       "      <td>2.648675</td>\n",
       "    </tr>\n",
       "    <tr>\n",
       "      <th>Bermuda</th>\n",
       "      <td>1988</td>\n",
       "      <td>100.000000</td>\n",
       "      <td>35.027956</td>\n",
       "      <td>50.213701</td>\n",
       "      <td>42339.929991</td>\n",
       "      <td>63.942913</td>\n",
       "      <td>239.000000</td>\n",
       "      <td>100.000000</td>\n",
       "      <td>61.165283</td>\n",
       "    </tr>\n",
       "    <tr>\n",
       "      <th>Bhutan</th>\n",
       "      <td>1988</td>\n",
       "      <td>45.601030</td>\n",
       "      <td>14.545504</td>\n",
       "      <td>2.174611</td>\n",
       "      <td>4203.397899</td>\n",
       "      <td>1.721837</td>\n",
       "      <td>8.625000</td>\n",
       "      <td>17.778123</td>\n",
       "      <td>11.292153</td>\n",
       "    </tr>\n",
       "    <tr>\n",
       "      <th>Bolivia</th>\n",
       "      <td>1988</td>\n",
       "      <td>72.736134</td>\n",
       "      <td>19.910797</td>\n",
       "      <td>0.843593</td>\n",
       "      <td>4262.366263</td>\n",
       "      <td>5.178245</td>\n",
       "      <td>71.133333</td>\n",
       "      <td>52.599737</td>\n",
       "      <td>13.163707</td>\n",
       "    </tr>\n",
       "    <tr>\n",
       "      <th>Bosnia and Herzegovina</th>\n",
       "      <td>1988</td>\n",
       "      <td>98.713332</td>\n",
       "      <td>22.936303</td>\n",
       "      <td>6.559944</td>\n",
       "      <td>6803.609538</td>\n",
       "      <td>19.256109</td>\n",
       "      <td>63.642857</td>\n",
       "      <td>34.577456</td>\n",
       "      <td>25.810634</td>\n",
       "    </tr>\n",
       "    <tr>\n",
       "      <th>Botswana</th>\n",
       "      <td>1988</td>\n",
       "      <td>31.269270</td>\n",
       "      <td>33.112877</td>\n",
       "      <td>0.946483</td>\n",
       "      <td>10223.636167</td>\n",
       "      <td>4.034792</td>\n",
       "      <td>18.000000</td>\n",
       "      <td>32.457561</td>\n",
       "      <td>5.197056</td>\n",
       "    </tr>\n",
       "    <tr>\n",
       "      <th>Brazil</th>\n",
       "      <td>1988</td>\n",
       "      <td>95.301465</td>\n",
       "      <td>29.391645</td>\n",
       "      <td>5.048855</td>\n",
       "      <td>10902.726825</td>\n",
       "      <td>11.501173</td>\n",
       "      <td>7417.066667</td>\n",
       "      <td>70.124018</td>\n",
       "      <td>20.940767</td>\n",
       "    </tr>\n",
       "    <tr>\n",
       "      <th>British Virgin Islands</th>\n",
       "      <td>1988</td>\n",
       "      <td>NaN</td>\n",
       "      <td>57.245283</td>\n",
       "      <td>24.908871</td>\n",
       "      <td>NaN</td>\n",
       "      <td>40.586962</td>\n",
       "      <td>186.000000</td>\n",
       "      <td>31.157825</td>\n",
       "      <td>27.814290</td>\n",
       "    </tr>\n",
       "    <tr>\n",
       "      <th>Brunei Darussalam</th>\n",
       "      <td>1988</td>\n",
       "      <td>100.000000</td>\n",
       "      <td>34.925232</td>\n",
       "      <td>4.205906</td>\n",
       "      <td>70392.838107</td>\n",
       "      <td>16.554240</td>\n",
       "      <td>31.866667</td>\n",
       "      <td>65.049719</td>\n",
       "      <td>33.771201</td>\n",
       "    </tr>\n",
       "    <tr>\n",
       "      <th>...</th>\n",
       "      <td>...</td>\n",
       "      <td>...</td>\n",
       "      <td>...</td>\n",
       "      <td>...</td>\n",
       "      <td>...</td>\n",
       "      <td>...</td>\n",
       "      <td>...</td>\n",
       "      <td>...</td>\n",
       "      <td>...</td>\n",
       "    </tr>\n",
       "    <tr>\n",
       "      <th>Syrian Arab Republic</th>\n",
       "      <td>1988</td>\n",
       "      <td>86.575937</td>\n",
       "      <td>13.123066</td>\n",
       "      <td>1.023351</td>\n",
       "      <td>NaN</td>\n",
       "      <td>8.656965</td>\n",
       "      <td>6.666667</td>\n",
       "      <td>48.397000</td>\n",
       "      <td>5.566420</td>\n",
       "    </tr>\n",
       "    <tr>\n",
       "      <th>Tajikistan</th>\n",
       "      <td>1988</td>\n",
       "      <td>98.511960</td>\n",
       "      <td>18.148147</td>\n",
       "      <td>0.057731</td>\n",
       "      <td>1664.517266</td>\n",
       "      <td>4.036892</td>\n",
       "      <td>11.000000</td>\n",
       "      <td>31.271088</td>\n",
       "      <td>7.498889</td>\n",
       "    </tr>\n",
       "    <tr>\n",
       "      <th>Tanzania</th>\n",
       "      <td>1988</td>\n",
       "      <td>10.530269</td>\n",
       "      <td>12.267722</td>\n",
       "      <td>0.079677</td>\n",
       "      <td>1578.626303</td>\n",
       "      <td>0.293586</td>\n",
       "      <td>38.250000</td>\n",
       "      <td>17.491772</td>\n",
       "      <td>2.495882</td>\n",
       "    </tr>\n",
       "    <tr>\n",
       "      <th>Thailand</th>\n",
       "      <td>1988</td>\n",
       "      <td>85.130577</td>\n",
       "      <td>32.889088</td>\n",
       "      <td>4.320711</td>\n",
       "      <td>9839.312148</td>\n",
       "      <td>5.255299</td>\n",
       "      <td>901.733333</td>\n",
       "      <td>30.230070</td>\n",
       "      <td>7.879368</td>\n",
       "    </tr>\n",
       "    <tr>\n",
       "      <th>Timor-Leste</th>\n",
       "      <td>1988</td>\n",
       "      <td>27.100709</td>\n",
       "      <td>42.674412</td>\n",
       "      <td>0.038453</td>\n",
       "      <td>1562.087076</td>\n",
       "      <td>0.251363</td>\n",
       "      <td>2.571429</td>\n",
       "      <td>20.132000</td>\n",
       "      <td>6.846092</td>\n",
       "    </tr>\n",
       "    <tr>\n",
       "      <th>Togo</th>\n",
       "      <td>1988</td>\n",
       "      <td>22.695726</td>\n",
       "      <td>11.604354</td>\n",
       "      <td>0.347143</td>\n",
       "      <td>1072.417860</td>\n",
       "      <td>0.675066</td>\n",
       "      <td>17.692308</td>\n",
       "      <td>27.473211</td>\n",
       "      <td>1.258845</td>\n",
       "    </tr>\n",
       "    <tr>\n",
       "      <th>Tonga</th>\n",
       "      <td>1988</td>\n",
       "      <td>86.642890</td>\n",
       "      <td>14.622980</td>\n",
       "      <td>1.080822</td>\n",
       "      <td>4024.581816</td>\n",
       "      <td>9.831391</td>\n",
       "      <td>2.307692</td>\n",
       "      <td>21.774982</td>\n",
       "      <td>11.828186</td>\n",
       "    </tr>\n",
       "    <tr>\n",
       "      <th>Trinidad and Tobago</th>\n",
       "      <td>1988</td>\n",
       "      <td>92.624669</td>\n",
       "      <td>38.871401</td>\n",
       "      <td>9.014652</td>\n",
       "      <td>20413.765756</td>\n",
       "      <td>15.394044</td>\n",
       "      <td>82.666667</td>\n",
       "      <td>10.784982</td>\n",
       "      <td>31.015491</td>\n",
       "    </tr>\n",
       "    <tr>\n",
       "      <th>Tunisia</th>\n",
       "      <td>1988</td>\n",
       "      <td>95.344020</td>\n",
       "      <td>29.959308</td>\n",
       "      <td>2.790956</td>\n",
       "      <td>7392.012229</td>\n",
       "      <td>6.222892</td>\n",
       "      <td>107.920000</td>\n",
       "      <td>54.838018</td>\n",
       "      <td>18.215173</td>\n",
       "    </tr>\n",
       "    <tr>\n",
       "      <th>Turkey</th>\n",
       "      <td>1988</td>\n",
       "      <td>95.151783</td>\n",
       "      <td>28.212808</td>\n",
       "      <td>7.003111</td>\n",
       "      <td>12866.001440</td>\n",
       "      <td>15.139031</td>\n",
       "      <td>4181.933333</td>\n",
       "      <td>53.738333</td>\n",
       "      <td>20.861478</td>\n",
       "    </tr>\n",
       "    <tr>\n",
       "      <th>Turkmenistan</th>\n",
       "      <td>1988</td>\n",
       "      <td>99.418345</td>\n",
       "      <td>20.445574</td>\n",
       "      <td>0.031208</td>\n",
       "      <td>7238.397516</td>\n",
       "      <td>7.216956</td>\n",
       "      <td>2.000000</td>\n",
       "      <td>46.899772</td>\n",
       "      <td>4.170577</td>\n",
       "    </tr>\n",
       "    <tr>\n",
       "      <th>Turks and Caicos Islands</th>\n",
       "      <td>1988</td>\n",
       "      <td>92.768913</td>\n",
       "      <td>8.020507</td>\n",
       "      <td>NaN</td>\n",
       "      <td>NaN</td>\n",
       "      <td>14.352728</td>\n",
       "      <td>13.000000</td>\n",
       "      <td>69.643912</td>\n",
       "      <td>0.000000</td>\n",
       "    </tr>\n",
       "    <tr>\n",
       "      <th>Tuvalu</th>\n",
       "      <td>1988</td>\n",
       "      <td>94.720290</td>\n",
       "      <td>7.859512</td>\n",
       "      <td>4.638555</td>\n",
       "      <td>2596.494734</td>\n",
       "      <td>7.724731</td>\n",
       "      <td>1.000000</td>\n",
       "      <td>37.128491</td>\n",
       "      <td>25.429233</td>\n",
       "    </tr>\n",
       "    <tr>\n",
       "      <th>Uganda</th>\n",
       "      <td>1988</td>\n",
       "      <td>9.228213</td>\n",
       "      <td>9.496740</td>\n",
       "      <td>0.084085</td>\n",
       "      <td>1098.528290</td>\n",
       "      <td>0.330223</td>\n",
       "      <td>31.214286</td>\n",
       "      <td>9.975439</td>\n",
       "      <td>6.065536</td>\n",
       "    </tr>\n",
       "    <tr>\n",
       "      <th>Ukraine</th>\n",
       "      <td>1988</td>\n",
       "      <td>96.514517</td>\n",
       "      <td>33.562246</td>\n",
       "      <td>6.161412</td>\n",
       "      <td>6105.609289</td>\n",
       "      <td>16.316778</td>\n",
       "      <td>911.400000</td>\n",
       "      <td>62.427333</td>\n",
       "      <td>13.242740</td>\n",
       "    </tr>\n",
       "    <tr>\n",
       "      <th>United Arab Emirates</th>\n",
       "      <td>1988</td>\n",
       "      <td>100.000000</td>\n",
       "      <td>64.205856</td>\n",
       "      <td>6.297244</td>\n",
       "      <td>72681.702174</td>\n",
       "      <td>21.777949</td>\n",
       "      <td>1208.066667</td>\n",
       "      <td>80.249526</td>\n",
       "      <td>44.954249</td>\n",
       "    </tr>\n",
       "    <tr>\n",
       "      <th>United Kingdom</th>\n",
       "      <td>1988</td>\n",
       "      <td>100.000000</td>\n",
       "      <td>44.743057</td>\n",
       "      <td>22.886631</td>\n",
       "      <td>29259.059811</td>\n",
       "      <td>44.188056</td>\n",
       "      <td>59066.071429</td>\n",
       "      <td>78.854772</td>\n",
       "      <td>48.133684</td>\n",
       "    </tr>\n",
       "    <tr>\n",
       "      <th>United States</th>\n",
       "      <td>1988</td>\n",
       "      <td>100.000000</td>\n",
       "      <td>36.090605</td>\n",
       "      <td>18.804371</td>\n",
       "      <td>40165.163037</td>\n",
       "      <td>49.639592</td>\n",
       "      <td>354718.733333</td>\n",
       "      <td>76.057439</td>\n",
       "      <td>47.021176</td>\n",
       "    </tr>\n",
       "    <tr>\n",
       "      <th>Upper middle income</th>\n",
       "      <td>1988</td>\n",
       "      <td>95.036933</td>\n",
       "      <td>23.816419</td>\n",
       "      <td>6.637848</td>\n",
       "      <td>8242.277596</td>\n",
       "      <td>10.505443</td>\n",
       "      <td>37009.800000</td>\n",
       "      <td>43.598203</td>\n",
       "      <td>17.882681</td>\n",
       "    </tr>\n",
       "    <tr>\n",
       "      <th>Uruguay</th>\n",
       "      <td>1988</td>\n",
       "      <td>97.879783</td>\n",
       "      <td>34.525173</td>\n",
       "      <td>12.991243</td>\n",
       "      <td>12540.057017</td>\n",
       "      <td>18.669425</td>\n",
       "      <td>181.600000</td>\n",
       "      <td>88.025684</td>\n",
       "      <td>27.317499</td>\n",
       "    </tr>\n",
       "    <tr>\n",
       "      <th>Uzbekistan</th>\n",
       "      <td>1988</td>\n",
       "      <td>99.626727</td>\n",
       "      <td>15.117434</td>\n",
       "      <td>1.532951</td>\n",
       "      <td>3053.565788</td>\n",
       "      <td>6.130595</td>\n",
       "      <td>29.285714</td>\n",
       "      <td>37.820421</td>\n",
       "      <td>11.083992</td>\n",
       "    </tr>\n",
       "    <tr>\n",
       "      <th>Vanuatu</th>\n",
       "      <td>1988</td>\n",
       "      <td>23.823182</td>\n",
       "      <td>12.142455</td>\n",
       "      <td>0.434094</td>\n",
       "      <td>2357.094603</td>\n",
       "      <td>2.316041</td>\n",
       "      <td>25.866667</td>\n",
       "      <td>17.885193</td>\n",
       "      <td>7.039051</td>\n",
       "    </tr>\n",
       "    <tr>\n",
       "      <th>Venezuela, RB</th>\n",
       "      <td>1988</td>\n",
       "      <td>98.419816</td>\n",
       "      <td>27.638367</td>\n",
       "      <td>3.960356</td>\n",
       "      <td>13029.487935</td>\n",
       "      <td>11.637628</td>\n",
       "      <td>228.133333</td>\n",
       "      <td>80.726544</td>\n",
       "      <td>19.288536</td>\n",
       "    </tr>\n",
       "    <tr>\n",
       "      <th>Vietnam</th>\n",
       "      <td>1988</td>\n",
       "      <td>88.264724</td>\n",
       "      <td>27.740331</td>\n",
       "      <td>3.484847</td>\n",
       "      <td>3050.213530</td>\n",
       "      <td>4.755043</td>\n",
       "      <td>436.466667</td>\n",
       "      <td>22.135947</td>\n",
       "      <td>17.644711</td>\n",
       "    </tr>\n",
       "    <tr>\n",
       "      <th>Virgin Islands (U.S.)</th>\n",
       "      <td>1988</td>\n",
       "      <td>100.000000</td>\n",
       "      <td>12.740376</td>\n",
       "      <td>6.565212</td>\n",
       "      <td>NaN</td>\n",
       "      <td>55.191039</td>\n",
       "      <td>35.357143</td>\n",
       "      <td>82.644456</td>\n",
       "      <td>25.171219</td>\n",
       "    </tr>\n",
       "    <tr>\n",
       "      <th>West Bank and Gaza</th>\n",
       "      <td>1988</td>\n",
       "      <td>99.027937</td>\n",
       "      <td>32.818425</td>\n",
       "      <td>3.379204</td>\n",
       "      <td>1852.453145</td>\n",
       "      <td>7.251369</td>\n",
       "      <td>15.250000</td>\n",
       "      <td>72.300074</td>\n",
       "      <td>25.972853</td>\n",
       "    </tr>\n",
       "    <tr>\n",
       "      <th>World</th>\n",
       "      <td>1988</td>\n",
       "      <td>78.574853</td>\n",
       "      <td>22.500965</td>\n",
       "      <td>6.558332</td>\n",
       "      <td>9852.162288</td>\n",
       "      <td>12.411840</td>\n",
       "      <td>858237.120000</td>\n",
       "      <td>42.808214</td>\n",
       "      <td>17.098610</td>\n",
       "    </tr>\n",
       "    <tr>\n",
       "      <th>Yemen, Rep.</th>\n",
       "      <td>1988</td>\n",
       "      <td>53.727665</td>\n",
       "      <td>12.406240</td>\n",
       "      <td>0.631920</td>\n",
       "      <td>3214.957677</td>\n",
       "      <td>2.407114</td>\n",
       "      <td>8.615385</td>\n",
       "      <td>20.946509</td>\n",
       "      <td>7.379372</td>\n",
       "    </tr>\n",
       "    <tr>\n",
       "      <th>Zambia</th>\n",
       "      <td>1988</td>\n",
       "      <td>19.271255</td>\n",
       "      <td>12.919742</td>\n",
       "      <td>0.063001</td>\n",
       "      <td>2331.336947</td>\n",
       "      <td>0.722571</td>\n",
       "      <td>25.923077</td>\n",
       "      <td>34.931228</td>\n",
       "      <td>5.988486</td>\n",
       "    </tr>\n",
       "    <tr>\n",
       "      <th>Zimbabwe</th>\n",
       "      <td>1988</td>\n",
       "      <td>33.456490</td>\n",
       "      <td>14.338346</td>\n",
       "      <td>0.371065</td>\n",
       "      <td>1756.584053</td>\n",
       "      <td>1.747620</td>\n",
       "      <td>30.200000</td>\n",
       "      <td>25.888509</td>\n",
       "      <td>5.263810</td>\n",
       "    </tr>\n",
       "  </tbody>\n",
       "</table>\n",
       "<p>264 rows × 9 columns</p>\n",
       "</div>"
      ],
      "text/plain": [
       "                          date  Access Electricity  Cellular %  \\\n",
       "country                                                          \n",
       "Afghanistan               1988           33.680401   10.649369   \n",
       "Albania                   1988          100.000000   25.747191   \n",
       "Algeria                   1988           97.109370   23.989855   \n",
       "American Samoa            1988                 NaN    1.222129   \n",
       "Andorra                   1988          100.000000   29.866274   \n",
       "Angola                    1988           40.351241   12.336649   \n",
       "Antigua and Barbuda       1988           89.223401   54.195114   \n",
       "Arab World                1988           80.892998   22.985322   \n",
       "Argentina                 1988           95.709432   37.324288   \n",
       "Armenia                   1988           98.984608   23.602978   \n",
       "Aruba                     1988           91.834406   38.443045   \n",
       "Australia                 1988          100.000000   37.395334   \n",
       "Austria                   1988          100.000000   49.868920   \n",
       "Azerbaijan                1988           98.050443   24.239112   \n",
       "Bahamas, The              1988           96.146860   28.472667   \n",
       "Bahrain                   1988          100.000000   45.080757   \n",
       "Bangladesh                1988           36.011388   13.093786   \n",
       "Barbados                  1988          100.000000   33.574754   \n",
       "Belarus                   1988          100.000000   27.333283   \n",
       "Belgium                   1988          100.000000   38.493340   \n",
       "Belize                    1988           85.154197   16.556350   \n",
       "Benin                     1988           23.031572   16.236305   \n",
       "Bermuda                   1988          100.000000   35.027956   \n",
       "Bhutan                    1988           45.601030   14.545504   \n",
       "Bolivia                   1988           72.736134   19.910797   \n",
       "Bosnia and Herzegovina    1988           98.713332   22.936303   \n",
       "Botswana                  1988           31.269270   33.112877   \n",
       "Brazil                    1988           95.301465   29.391645   \n",
       "British Virgin Islands    1988                 NaN   57.245283   \n",
       "Brunei Darussalam         1988          100.000000   34.925232   \n",
       "...                        ...                 ...         ...   \n",
       "Syrian Arab Republic      1988           86.575937   13.123066   \n",
       "Tajikistan                1988           98.511960   18.148147   \n",
       "Tanzania                  1988           10.530269   12.267722   \n",
       "Thailand                  1988           85.130577   32.889088   \n",
       "Timor-Leste               1988           27.100709   42.674412   \n",
       "Togo                      1988           22.695726   11.604354   \n",
       "Tonga                     1988           86.642890   14.622980   \n",
       "Trinidad and Tobago       1988           92.624669   38.871401   \n",
       "Tunisia                   1988           95.344020   29.959308   \n",
       "Turkey                    1988           95.151783   28.212808   \n",
       "Turkmenistan              1988           99.418345   20.445574   \n",
       "Turks and Caicos Islands  1988           92.768913    8.020507   \n",
       "Tuvalu                    1988           94.720290    7.859512   \n",
       "Uganda                    1988            9.228213    9.496740   \n",
       "Ukraine                   1988           96.514517   33.562246   \n",
       "United Arab Emirates      1988          100.000000   64.205856   \n",
       "United Kingdom            1988          100.000000   44.743057   \n",
       "United States             1988          100.000000   36.090605   \n",
       "Upper middle income       1988           95.036933   23.816419   \n",
       "Uruguay                   1988           97.879783   34.525173   \n",
       "Uzbekistan                1988           99.626727   15.117434   \n",
       "Vanuatu                   1988           23.823182   12.142455   \n",
       "Venezuela, RB             1988           98.419816   27.638367   \n",
       "Vietnam                   1988           88.264724   27.740331   \n",
       "Virgin Islands (U.S.)     1988          100.000000   12.740376   \n",
       "West Bank and Gaza        1988           99.027937   32.818425   \n",
       "World                     1988           78.574853   22.500965   \n",
       "Yemen, Rep.               1988           53.727665   12.406240   \n",
       "Zambia                    1988           19.271255   12.919742   \n",
       "Zimbabwe                  1988           33.456490   14.338346   \n",
       "\n",
       "                          Fixed broadband %   GDP pcp PPP  Landline %  \\\n",
       "country                                                                 \n",
       "Afghanistan                        0.006668   1422.504265    0.203468   \n",
       "Albania                            4.168546   6048.470579    4.197885   \n",
       "Algeria                            2.376974   9983.954726    4.483678   \n",
       "American Samoa                          NaN           NaN   16.235057   \n",
       "Andorra                           24.680914           NaN   37.710667   \n",
       "Angola                             0.194168   3957.716562    0.610448   \n",
       "Antigua and Barbuda                9.055788  16435.471790   29.474943   \n",
       "Arab World                         2.346970  11056.356733    5.292748   \n",
       "Argentina                          8.126708  13914.791772   15.060986   \n",
       "Armenia                            3.651270   4416.972091   15.845438   \n",
       "Aruba                             14.683483  35973.780510   32.239375   \n",
       "Australia                         18.163394  31196.588544   41.154663   \n",
       "Austria                           17.292337  33705.949209   37.721520   \n",
       "Azerbaijan                         8.387688   8628.129126   10.229280   \n",
       "Bahamas, The                       9.799191  20273.337509   28.358654   \n",
       "Bahrain                           10.864393  36496.614310   18.109904   \n",
       "Bangladesh                         1.098673   1784.428963    0.358383   \n",
       "Barbados                          19.732893  12457.865324   32.265911   \n",
       "Belarus                           13.888722  10076.355092   22.344763   \n",
       "Belgium                           21.467152  31738.152629   36.454091   \n",
       "Belize                             2.865643   6238.611939    8.392221   \n",
       "Benin                              0.249444   1492.964854    0.647201   \n",
       "Bermuda                           50.213701  42339.929991   63.942913   \n",
       "Bhutan                             2.174611   4203.397899    1.721837   \n",
       "Bolivia                            0.843593   4262.366263    5.178245   \n",
       "Bosnia and Herzegovina             6.559944   6803.609538   19.256109   \n",
       "Botswana                           0.946483  10223.636167    4.034792   \n",
       "Brazil                             5.048855  10902.726825   11.501173   \n",
       "British Virgin Islands            24.908871           NaN   40.586962   \n",
       "Brunei Darussalam                  4.205906  70392.838107   16.554240   \n",
       "...                                     ...           ...         ...   \n",
       "Syrian Arab Republic               1.023351           NaN    8.656965   \n",
       "Tajikistan                         0.057731   1664.517266    4.036892   \n",
       "Tanzania                           0.079677   1578.626303    0.293586   \n",
       "Thailand                           4.320711   9839.312148    5.255299   \n",
       "Timor-Leste                        0.038453   1562.087076    0.251363   \n",
       "Togo                               0.347143   1072.417860    0.675066   \n",
       "Tonga                              1.080822   4024.581816    9.831391   \n",
       "Trinidad and Tobago                9.014652  20413.765756   15.394044   \n",
       "Tunisia                            2.790956   7392.012229    6.222892   \n",
       "Turkey                             7.003111  12866.001440   15.139031   \n",
       "Turkmenistan                       0.031208   7238.397516    7.216956   \n",
       "Turks and Caicos Islands                NaN           NaN   14.352728   \n",
       "Tuvalu                             4.638555   2596.494734    7.724731   \n",
       "Uganda                             0.084085   1098.528290    0.330223   \n",
       "Ukraine                            6.161412   6105.609289   16.316778   \n",
       "United Arab Emirates               6.297244  72681.702174   21.777949   \n",
       "United Kingdom                    22.886631  29259.059811   44.188056   \n",
       "United States                     18.804371  40165.163037   49.639592   \n",
       "Upper middle income                6.637848   8242.277596   10.505443   \n",
       "Uruguay                           12.991243  12540.057017   18.669425   \n",
       "Uzbekistan                         1.532951   3053.565788    6.130595   \n",
       "Vanuatu                            0.434094   2357.094603    2.316041   \n",
       "Venezuela, RB                      3.960356  13029.487935   11.637628   \n",
       "Vietnam                            3.484847   3050.213530    4.755043   \n",
       "Virgin Islands (U.S.)              6.565212           NaN   55.191039   \n",
       "West Bank and Gaza                 3.379204   1852.453145    7.251369   \n",
       "World                              6.558332   9852.162288   12.411840   \n",
       "Yemen, Rep.                        0.631920   3214.957677    2.407114   \n",
       "Zambia                             0.063001   2331.336947    0.722571   \n",
       "Zimbabwe                           0.371065   1756.584053    1.747620   \n",
       "\n",
       "                          Secure Servers  Urbanisation  internet_users  \n",
       "country                                                                 \n",
       "Afghanistan                    18.428571     17.610807        3.354972  \n",
       "Albania                        37.866667     39.016860       21.555784  \n",
       "Algeria                        39.928571     51.176053        9.692493  \n",
       "American Samoa                  6.000000     79.241333        0.000000  \n",
       "Andorra                        58.533333     86.674982       48.592382  \n",
       "Angola                         53.071429     25.582298        3.040326  \n",
       "Antigua and Barbuda            57.692308     32.813123       29.976907  \n",
       "Arab World                   3781.753846     47.320141       14.100129  \n",
       "Argentina                    1169.933333     84.847965       23.140497  \n",
       "Armenia                        56.000000     63.115053       15.261454  \n",
       "Aruba                          30.733333     48.266298       42.330053  \n",
       "Australia                   23868.000000     86.130333       46.675617  \n",
       "Austria                      6062.200000     65.547123       43.242725  \n",
       "Azerbaijan                     51.000000     52.437667       24.457607  \n",
       "Bahamas, The                   86.333333     75.423368       31.306882  \n",
       "Bahrain                       115.466667     86.563491       37.931310  \n",
       "Bangladesh                     70.533333     18.304614        3.607755  \n",
       "Barbados                       79.333333     35.155456       40.707940  \n",
       "Belarus                       180.666667     59.926281       22.478781  \n",
       "Belgium                      4836.266667     95.777667       42.018638  \n",
       "Belize                         79.666667     48.485842       18.918994  \n",
       "Benin                          10.384615     29.965596        2.648675  \n",
       "Bermuda                       239.000000    100.000000       61.165283  \n",
       "Bhutan                          8.625000     17.778123       11.292153  \n",
       "Bolivia                        71.133333     52.599737       13.163707  \n",
       "Bosnia and Herzegovina         63.642857     34.577456       25.810634  \n",
       "Botswana                       18.000000     32.457561        5.197056  \n",
       "Brazil                       7417.066667     70.124018       20.940767  \n",
       "British Virgin Islands        186.000000     31.157825       27.814290  \n",
       "Brunei Darussalam              31.866667     65.049719       33.771201  \n",
       "...                                  ...           ...             ...  \n",
       "Syrian Arab Republic            6.666667     48.397000        5.566420  \n",
       "Tajikistan                     11.000000     31.271088        7.498889  \n",
       "Tanzania                       38.250000     17.491772        2.495882  \n",
       "Thailand                      901.733333     30.230070        7.879368  \n",
       "Timor-Leste                     2.571429     20.132000        6.846092  \n",
       "Togo                           17.692308     27.473211        1.258845  \n",
       "Tonga                           2.307692     21.774982       11.828186  \n",
       "Trinidad and Tobago            82.666667     10.784982       31.015491  \n",
       "Tunisia                       107.920000     54.838018       18.215173  \n",
       "Turkey                       4181.933333     53.738333       20.861478  \n",
       "Turkmenistan                    2.000000     46.899772        4.170577  \n",
       "Turks and Caicos Islands       13.000000     69.643912        0.000000  \n",
       "Tuvalu                          1.000000     37.128491       25.429233  \n",
       "Uganda                         31.214286      9.975439        6.065536  \n",
       "Ukraine                       911.400000     62.427333       13.242740  \n",
       "United Arab Emirates         1208.066667     80.249526       44.954249  \n",
       "United Kingdom              59066.071429     78.854772       48.133684  \n",
       "United States              354718.733333     76.057439       47.021176  \n",
       "Upper middle income         37009.800000     43.598203       17.882681  \n",
       "Uruguay                       181.600000     88.025684       27.317499  \n",
       "Uzbekistan                     29.285714     37.820421       11.083992  \n",
       "Vanuatu                        25.866667     17.885193        7.039051  \n",
       "Venezuela, RB                 228.133333     80.726544       19.288536  \n",
       "Vietnam                       436.466667     22.135947       17.644711  \n",
       "Virgin Islands (U.S.)          35.357143     82.644456       25.171219  \n",
       "West Bank and Gaza             15.250000     72.300074       25.972853  \n",
       "World                      858237.120000     42.808214       17.098610  \n",
       "Yemen, Rep.                     8.615385     20.946509        7.379372  \n",
       "Zambia                         25.923077     34.931228        5.988486  \n",
       "Zimbabwe                       30.200000     25.888509        5.263810  \n",
       "\n",
       "[264 rows x 9 columns]"
      ]
     },
     "execution_count": 116,
     "metadata": {},
     "output_type": "execute_result"
    }
   ],
   "source": [
    "digital.groupby('country').mean()"
   ]
  },
  {
   "cell_type": "markdown",
   "metadata": {},
   "source": [
    "## Countries\n",
    "I'm only interested in countries. In addition, the groups are likely to inflate my null-values, therefore I will drop all observations not belonging to exactly one country.\n",
    "Instead, I will merge with a worldbank dataframe providing the country group (low, upper middle, lower middle, high income) as well as the region for clustering the countries and make better visualizations."
   ]
  },
  {
   "cell_type": "code",
   "execution_count": 117,
   "metadata": {},
   "outputs": [
    {
     "data": {
      "text/html": [
       "<div>\n",
       "<style>\n",
       "    .dataframe thead tr:only-child th {\n",
       "        text-align: right;\n",
       "    }\n",
       "\n",
       "    .dataframe thead th {\n",
       "        text-align: left;\n",
       "    }\n",
       "\n",
       "    .dataframe tbody tr th {\n",
       "        vertical-align: top;\n",
       "    }\n",
       "</style>\n",
       "<table border=\"1\" class=\"dataframe\">\n",
       "  <thead>\n",
       "    <tr style=\"text-align: right;\">\n",
       "      <th></th>\n",
       "      <th>Economy</th>\n",
       "      <th>Code</th>\n",
       "      <th>Region</th>\n",
       "    </tr>\n",
       "  </thead>\n",
       "  <tbody>\n",
       "    <tr>\n",
       "      <th>0</th>\n",
       "      <td>Afghanistan</td>\n",
       "      <td>AFG</td>\n",
       "      <td>South Asia</td>\n",
       "    </tr>\n",
       "    <tr>\n",
       "      <th>1</th>\n",
       "      <td>Albania</td>\n",
       "      <td>ALB</td>\n",
       "      <td>Europe &amp; Central Asia</td>\n",
       "    </tr>\n",
       "    <tr>\n",
       "      <th>2</th>\n",
       "      <td>Algeria</td>\n",
       "      <td>DZA</td>\n",
       "      <td>Middle East &amp; North Africa</td>\n",
       "    </tr>\n",
       "    <tr>\n",
       "      <th>3</th>\n",
       "      <td>American Samoa</td>\n",
       "      <td>ASM</td>\n",
       "      <td>East Asia &amp; Pacific</td>\n",
       "    </tr>\n",
       "    <tr>\n",
       "      <th>4</th>\n",
       "      <td>Andorra</td>\n",
       "      <td>AND</td>\n",
       "      <td>Europe &amp; Central Asia</td>\n",
       "    </tr>\n",
       "  </tbody>\n",
       "</table>\n",
       "</div>"
      ],
      "text/plain": [
       "          Economy Code                      Region\n",
       "0     Afghanistan  AFG                  South Asia\n",
       "1         Albania  ALB       Europe & Central Asia\n",
       "2         Algeria  DZA  Middle East & North Africa\n",
       "3  American Samoa  ASM         East Asia & Pacific\n",
       "4         Andorra  AND       Europe & Central Asia"
      ]
     },
     "execution_count": 117,
     "metadata": {},
     "output_type": "execute_result"
    }
   ],
   "source": [
    "#read in dataframe of countries and their region\n",
    "countries = pd.read_csv('List of countries.csv', )\n",
    "countries = countries[['Economy', 'Code', 'Region']]\n",
    "countries.head()"
   ]
  },
  {
   "cell_type": "code",
   "execution_count": 118,
   "metadata": {
    "collapsed": true
   },
   "outputs": [],
   "source": [
    "#read in dataframe of country groups\n",
    "groups = pd.read_csv('WB_Group.csv')\n",
    "groups.rename(columns={'variable' : 'year'}, inplace = True )\n",
    "groups.drop('Unnamed: 0', axis = 1, inplace = True)"
   ]
  },
  {
   "cell_type": "code",
   "execution_count": 119,
   "metadata": {},
   "outputs": [
    {
     "data": {
      "text/html": [
       "<div>\n",
       "<style>\n",
       "    .dataframe thead tr:only-child th {\n",
       "        text-align: right;\n",
       "    }\n",
       "\n",
       "    .dataframe thead th {\n",
       "        text-align: left;\n",
       "    }\n",
       "\n",
       "    .dataframe tbody tr th {\n",
       "        vertical-align: top;\n",
       "    }\n",
       "</style>\n",
       "<table border=\"1\" class=\"dataframe\">\n",
       "  <thead>\n",
       "    <tr style=\"text-align: right;\">\n",
       "      <th></th>\n",
       "      <th>code</th>\n",
       "      <th>country</th>\n",
       "      <th>year</th>\n",
       "      <th>cgroup</th>\n",
       "    </tr>\n",
       "  </thead>\n",
       "  <tbody>\n",
       "    <tr>\n",
       "      <th>0</th>\n",
       "      <td>AFG</td>\n",
       "      <td>Afghanistan</td>\n",
       "      <td>1987</td>\n",
       "      <td>L</td>\n",
       "    </tr>\n",
       "    <tr>\n",
       "      <th>1</th>\n",
       "      <td>ALB</td>\n",
       "      <td>Albania</td>\n",
       "      <td>1987</td>\n",
       "      <td>..</td>\n",
       "    </tr>\n",
       "    <tr>\n",
       "      <th>2</th>\n",
       "      <td>DZA</td>\n",
       "      <td>Algeria</td>\n",
       "      <td>1987</td>\n",
       "      <td>UM</td>\n",
       "    </tr>\n",
       "    <tr>\n",
       "      <th>3</th>\n",
       "      <td>ASM</td>\n",
       "      <td>American Samoa</td>\n",
       "      <td>1987</td>\n",
       "      <td>H</td>\n",
       "    </tr>\n",
       "    <tr>\n",
       "      <th>4</th>\n",
       "      <td>AND</td>\n",
       "      <td>Andorra</td>\n",
       "      <td>1987</td>\n",
       "      <td>..</td>\n",
       "    </tr>\n",
       "  </tbody>\n",
       "</table>\n",
       "</div>"
      ],
      "text/plain": [
       "  code         country  year cgroup\n",
       "0  AFG     Afghanistan  1987      L\n",
       "1  ALB         Albania  1987     ..\n",
       "2  DZA         Algeria  1987     UM\n",
       "3  ASM  American Samoa  1987      H\n",
       "4  AND         Andorra  1987     .."
      ]
     },
     "execution_count": 119,
     "metadata": {},
     "output_type": "execute_result"
    }
   ],
   "source": [
    "groups.head()"
   ]
  },
  {
   "cell_type": "markdown",
   "metadata": {},
   "source": [
    "When doing an inner join, the Faroe Islands will be lost: \n"
   ]
  },
  {
   "cell_type": "code",
   "execution_count": 120,
   "metadata": {},
   "outputs": [
    {
     "data": {
      "text/plain": [
       "array(['Faroe Islands'], \n",
       "      dtype='<U30')"
      ]
     },
     "execution_count": 120,
     "metadata": {},
     "output_type": "execute_result"
    }
   ],
   "source": [
    "merge = pd.merge(left=digital, right = countries, left_on='country', right_on ='Economy').drop('Economy', axis = 1)\n",
    "country_groups = pd.merge(left = digital, right = groups, left_on = ['country', 'date'], right_on = ['country', 'year'])\n",
    "merge['country'].nunique()\n",
    "country_groups['country'].nunique()\n",
    "np.setdiff1d(list(merge['country'].unique()), list(country_groups['country'].unique()),)\n"
   ]
  },
  {
   "cell_type": "markdown",
   "metadata": {},
   "source": [
    "Alternative\n",
    "digital = digital[digital['country'].isin(countries['Economy'])]\n",
    "digital.head()"
   ]
  },
  {
   "cell_type": "markdown",
   "metadata": {},
   "source": [
    "Therefore, I will first do an inner join with countries and then an outer join with groups"
   ]
  },
  {
   "cell_type": "code",
   "execution_count": 121,
   "metadata": {
    "collapsed": true
   },
   "outputs": [],
   "source": [
    "between = pd.merge(left = digital, right = countries, left_on='country', right_on ='Economy').drop('Economy', axis = 1)\n",
    "finaldf = pd.merge(left = between, right = groups, left_on = ['country', 'date'], right_on = ['country', 'year'], how = 'left')"
   ]
  },
  {
   "cell_type": "code",
   "execution_count": 122,
   "metadata": {},
   "outputs": [
    {
     "data": {
      "text/plain": [
       "213"
      ]
     },
     "execution_count": 122,
     "metadata": {},
     "output_type": "execute_result"
    }
   ],
   "source": [
    "finaldf.head()\n",
    "finaldf['country'].nunique()"
   ]
  },
  {
   "cell_type": "code",
   "execution_count": 123,
   "metadata": {},
   "outputs": [
    {
     "data": {
      "text/html": [
       "<div>\n",
       "<style>\n",
       "    .dataframe thead tr:only-child th {\n",
       "        text-align: right;\n",
       "    }\n",
       "\n",
       "    .dataframe thead th {\n",
       "        text-align: left;\n",
       "    }\n",
       "\n",
       "    .dataframe tbody tr th {\n",
       "        vertical-align: top;\n",
       "    }\n",
       "</style>\n",
       "<table border=\"1\" class=\"dataframe\">\n",
       "  <thead>\n",
       "    <tr style=\"text-align: right;\">\n",
       "      <th></th>\n",
       "      <th>country</th>\n",
       "      <th>date</th>\n",
       "      <th>Access Electricity</th>\n",
       "      <th>Cellular %</th>\n",
       "      <th>Fixed broadband %</th>\n",
       "      <th>GDP pcp PPP</th>\n",
       "      <th>Landline %</th>\n",
       "      <th>Secure Servers</th>\n",
       "      <th>Urbanisation</th>\n",
       "      <th>internet_users</th>\n",
       "      <th>Code</th>\n",
       "      <th>Region</th>\n",
       "      <th>code</th>\n",
       "      <th>year</th>\n",
       "      <th>cgroup</th>\n",
       "    </tr>\n",
       "  </thead>\n",
       "  <tbody>\n",
       "    <tr>\n",
       "      <th>0</th>\n",
       "      <td>Afghanistan</td>\n",
       "      <td>2016.0</td>\n",
       "      <td>NaN</td>\n",
       "      <td>66.003744</td>\n",
       "      <td>0.026890</td>\n",
       "      <td>1876.544682</td>\n",
       "      <td>0.348892</td>\n",
       "      <td>49.0</td>\n",
       "      <td>27.132</td>\n",
       "      <td>10.595726</td>\n",
       "      <td>AFG</td>\n",
       "      <td>South Asia</td>\n",
       "      <td>AFG</td>\n",
       "      <td>2016.0</td>\n",
       "      <td>L</td>\n",
       "    </tr>\n",
       "    <tr>\n",
       "      <th>1</th>\n",
       "      <td>Afghanistan</td>\n",
       "      <td>2015.0</td>\n",
       "      <td>NaN</td>\n",
       "      <td>61.577682</td>\n",
       "      <td>0.022080</td>\n",
       "      <td>1861.124332</td>\n",
       "      <td>0.343677</td>\n",
       "      <td>46.0</td>\n",
       "      <td>26.703</td>\n",
       "      <td>8.260000</td>\n",
       "      <td>AFG</td>\n",
       "      <td>South Asia</td>\n",
       "      <td>AFG</td>\n",
       "      <td>2015.0</td>\n",
       "      <td>L</td>\n",
       "    </tr>\n",
       "    <tr>\n",
       "      <th>2</th>\n",
       "      <td>Afghanistan</td>\n",
       "      <td>2014.0</td>\n",
       "      <td>89.500000</td>\n",
       "      <td>58.845471</td>\n",
       "      <td>0.004795</td>\n",
       "      <td>1875.447407</td>\n",
       "      <td>0.325861</td>\n",
       "      <td>32.0</td>\n",
       "      <td>26.282</td>\n",
       "      <td>7.000000</td>\n",
       "      <td>AFG</td>\n",
       "      <td>South Asia</td>\n",
       "      <td>AFG</td>\n",
       "      <td>2014.0</td>\n",
       "      <td>L</td>\n",
       "    </tr>\n",
       "    <tr>\n",
       "      <th>3</th>\n",
       "      <td>Afghanistan</td>\n",
       "      <td>2013.0</td>\n",
       "      <td>75.154373</td>\n",
       "      <td>55.012226</td>\n",
       "      <td>0.004910</td>\n",
       "      <td>1877.411953</td>\n",
       "      <td>0.313466</td>\n",
       "      <td>30.0</td>\n",
       "      <td>25.871</td>\n",
       "      <td>5.900000</td>\n",
       "      <td>AFG</td>\n",
       "      <td>South Asia</td>\n",
       "      <td>AFG</td>\n",
       "      <td>2013.0</td>\n",
       "      <td>L</td>\n",
       "    </tr>\n",
       "    <tr>\n",
       "      <th>4</th>\n",
       "      <td>Afghanistan</td>\n",
       "      <td>2012.0</td>\n",
       "      <td>69.100000</td>\n",
       "      <td>51.434547</td>\n",
       "      <td>0.005029</td>\n",
       "      <td>1873.153946</td>\n",
       "      <td>0.301822</td>\n",
       "      <td>33.0</td>\n",
       "      <td>25.468</td>\n",
       "      <td>5.454545</td>\n",
       "      <td>AFG</td>\n",
       "      <td>South Asia</td>\n",
       "      <td>AFG</td>\n",
       "      <td>2012.0</td>\n",
       "      <td>L</td>\n",
       "    </tr>\n",
       "  </tbody>\n",
       "</table>\n",
       "</div>"
      ],
      "text/plain": [
       "       country    date  Access Electricity  Cellular %  Fixed broadband %  \\\n",
       "0  Afghanistan  2016.0                 NaN   66.003744           0.026890   \n",
       "1  Afghanistan  2015.0                 NaN   61.577682           0.022080   \n",
       "2  Afghanistan  2014.0           89.500000   58.845471           0.004795   \n",
       "3  Afghanistan  2013.0           75.154373   55.012226           0.004910   \n",
       "4  Afghanistan  2012.0           69.100000   51.434547           0.005029   \n",
       "\n",
       "   GDP pcp PPP  Landline %  Secure Servers  Urbanisation  internet_users Code  \\\n",
       "0  1876.544682    0.348892            49.0        27.132       10.595726  AFG   \n",
       "1  1861.124332    0.343677            46.0        26.703        8.260000  AFG   \n",
       "2  1875.447407    0.325861            32.0        26.282        7.000000  AFG   \n",
       "3  1877.411953    0.313466            30.0        25.871        5.900000  AFG   \n",
       "4  1873.153946    0.301822            33.0        25.468        5.454545  AFG   \n",
       "\n",
       "       Region code    year cgroup  \n",
       "0  South Asia  AFG  2016.0      L  \n",
       "1  South Asia  AFG  2015.0      L  \n",
       "2  South Asia  AFG  2014.0      L  \n",
       "3  South Asia  AFG  2013.0      L  \n",
       "4  South Asia  AFG  2012.0      L  "
      ]
     },
     "execution_count": 123,
     "metadata": {},
     "output_type": "execute_result"
    }
   ],
   "source": [
    "#for the sake of uniformity, exchange .. for np as missing data container\n",
    "finaldf[finaldf['cgroup'] == '..'] = np.nan\n",
    "finaldf.head()\n"
   ]
  },
  {
   "cell_type": "code",
   "execution_count": 124,
   "metadata": {},
   "outputs": [
    {
     "data": {
      "text/plain": [
       "Index(['country', 'date', 'Access Electricity', 'Cellular %',\n",
       "       'Fixed broadband %', 'GDP pcp PPP', 'Landline %', 'Secure Servers',\n",
       "       'Urbanisation', 'internet_users', 'Code', 'Region', 'code', 'year',\n",
       "       'cgroup'],\n",
       "      dtype='object')"
      ]
     },
     "execution_count": 124,
     "metadata": {},
     "output_type": "execute_result"
    }
   ],
   "source": [
    "finaldf.columns"
   ]
  },
  {
   "cell_type": "code",
   "execution_count": 125,
   "metadata": {},
   "outputs": [
    {
     "data": {
      "text/plain": [
       "array(['L', nan, 'UM', 'LM', 'H', 'LM*'], dtype=object)"
      ]
     },
     "execution_count": 125,
     "metadata": {},
     "output_type": "execute_result"
    }
   ],
   "source": [
    "finaldf['cgroup'].unique()"
   ]
  },
  {
   "cell_type": "code",
   "execution_count": 126,
   "metadata": {},
   "outputs": [],
   "source": [
    "finaldf.loc[finaldf['cgroup'] == 'LM*', 'cgroup'] = 'LM'"
   ]
  },
  {
   "cell_type": "code",
   "execution_count": 127,
   "metadata": {},
   "outputs": [],
   "source": [
    "#finaldf contains bogus rows with no real values:\n",
    "finaldf = finaldf.dropna(axis = 0, how = 'all')"
   ]
  },
  {
   "cell_type": "code",
   "execution_count": 129,
   "metadata": {},
   "outputs": [],
   "source": [
    "#finaldf contains duplicate columns: code and year\n",
    "finaldf.drop(['code', 'year'], axis = 1, inplace = True)"
   ]
  },
  {
   "cell_type": "code",
   "execution_count": 172,
   "metadata": {},
   "outputs": [],
   "source": [
    "#make date an int column\n",
    "finaldf.date = finaldf.date.astype(int)\n"
   ]
  },
  {
   "cell_type": "code",
   "execution_count": 173,
   "metadata": {
    "collapsed": true
   },
   "outputs": [],
   "source": [
    "digital= finaldf.copy()"
   ]
  },
  {
   "cell_type": "markdown",
   "metadata": {},
   "source": [
    "The countrygroup by income should be a series of dummy variables instead.\n",
    "\n"
   ]
  },
  {
   "cell_type": "markdown",
   "metadata": {},
   "source": [
    "\n",
    "\n",
    "## Dealing with Missing Values"
   ]
  },
  {
   "cell_type": "code",
   "execution_count": 174,
   "metadata": {},
   "outputs": [
    {
     "name": "stderr",
     "output_type": "stream",
     "text": [
      "/home/antonia/.conda/envs/my_root/lib/python3.6/site-packages/matplotlib/font_manager.py:1297: UserWarning: findfont: Font family ['sans-serif'] not found. Falling back to DejaVu Sans\n",
      "  (prop.get_family(), self.defaultFamily[fontext]))\n"
     ]
    },
    {
     "data": {
      "text/plain": [
       "<matplotlib.axes._subplots.AxesSubplot at 0x7f8164d6a828>"
      ]
     },
     "execution_count": 174,
     "metadata": {},
     "output_type": "execute_result"
    },
    {
     "data": {
      "image/png": "[encoded data removed]",
      "text/plain": [
       "<matplotlib.figure.Figure at 0x7f816c123048>"
      ]
     },
     "metadata": {},
     "output_type": "display_data"
    }
   ],
   "source": [
    "sns.heatmap(digital.isnull(),cmap = 'viridis', cbar = False, yticklabels = False)"
   ]
  },
  {
   "cell_type": "code",
   "execution_count": 175,
   "metadata": {},
   "outputs": [
    {
     "data": {
      "text/plain": [
       "1960    213\n",
       "1985    213\n",
       "1977    213\n",
       "1973    213\n",
       "1969    213\n",
       "1965    213\n",
       "1961    213\n",
       "1962    213\n",
       "1966    213\n",
       "1970    213\n",
       "1974    213\n",
       "1978    213\n",
       "1982    213\n",
       "1986    213\n",
       "1981    213\n",
       "1979    213\n",
       "1964    213\n",
       "1968    213\n",
       "1972    213\n",
       "1976    213\n",
       "1963    213\n",
       "1967    213\n",
       "1971    213\n",
       "1975    213\n",
       "1980    213\n",
       "1983    213\n",
       "1984    213\n",
       "2016      1\n",
       "1992      1\n",
       "1996      1\n",
       "2012      1\n",
       "2008      1\n",
       "2004      1\n",
       "1988      1\n",
       "2000      1\n",
       "2015      1\n",
       "1989      1\n",
       "2006      1\n",
       "2007      1\n",
       "2003      1\n",
       "1999      1\n",
       "1995      1\n",
       "1991      1\n",
       "1987      1\n",
       "2014      1\n",
       "2010      1\n",
       "2002      1\n",
       "1993      1\n",
       "1998      1\n",
       "1994      1\n",
       "1990      1\n",
       "2011      1\n",
       "2009      1\n",
       "2005      1\n",
       "2001      1\n",
       "1997      1\n",
       "2013      1\n",
       "Name: date, dtype: int64"
      ]
     },
     "execution_count": 175,
     "metadata": {},
     "output_type": "execute_result"
    }
   ],
   "source": [
    "digital[digital['cgroup'].isnull()]['date'].value_counts()"
   ]
  },
  {
   "cell_type": "markdown",
   "metadata": {},
   "source": [
    "There are no data up to 1986 of country groups. The Faroe Islands drive the other missing values. Since I will drop all countries before 1995 from the analysis, this is not problematic.\n"
   ]
  },
  {
   "cell_type": "markdown",
   "metadata": {},
   "source": [
    "There are many missing values. GDP per capita has hardly any, but all the other columns are problematic. "
   ]
  },
  {
   "cell_type": "markdown",
   "metadata": {},
   "source": [
    "I assume, the older the data, the more is missing"
   ]
  },
  {
   "cell_type": "code",
   "execution_count": 176,
   "metadata": {},
   "outputs": [
    {
     "data": {
      "text/plain": [
       "[0.059192200557103065, 0.90841450216450215]"
      ]
     },
     "execution_count": 176,
     "metadata": {},
     "output_type": "execute_result"
    }
   ],
   "source": [
    "[digital[digital['date'] > 1995]['internet_users'].isnull().mean(), \n",
    " digital[digital['date'] <= 1995]['internet_users'].isnull().mean()]"
   ]
  },
  {
   "cell_type": "code",
   "execution_count": 177,
   "metadata": {},
   "outputs": [
    {
     "data": {
      "text/plain": [
       "[0.049030786773090078, 0.829833984375]"
      ]
     },
     "execution_count": 177,
     "metadata": {},
     "output_type": "execute_result"
    }
   ],
   "source": [
    "[digital[digital['date'] >= 2000]['internet_users'].isnull().mean(), \n",
    " digital[digital['date'] < 2000]['internet_users'].isnull().mean()]"
   ]
  },
  {
   "cell_type": "code",
   "execution_count": 178,
   "metadata": {},
   "outputs": [
    {
     "data": {
      "text/plain": [
       "<matplotlib.axes._subplots.AxesSubplot at 0x7f81645de668>"
      ]
     },
     "execution_count": 178,
     "metadata": {},
     "output_type": "execute_result"
    },
    {
     "name": "stderr",
     "output_type": "stream",
     "text": [
      "/home/antonia/.conda/envs/my_root/lib/python3.6/site-packages/matplotlib/font_manager.py:1297: UserWarning: findfont: Font family ['sans-serif'] not found. Falling back to DejaVu Sans\n",
      "  (prop.get_family(), self.defaultFamily[fontext]))\n"
     ]
    },
    {
     "data": {
      "image/png": "[encoded data removed]",
      "text/plain": [
       "<matplotlib.figure.Figure at 0x7f8164e2ceb8>"
      ]
     },
     "metadata": {},
     "output_type": "display_data"
    }
   ],
   "source": [
    "digital[digital['internet_users'].isnull()]['date'].hist(bins = 30, color = 'red')"
   ]
  },
  {
   "cell_type": "code",
   "execution_count": 179,
   "metadata": {
    "collapsed": true
   },
   "outputs": [],
   "source": [
    "# dropping everything until 1990 seems justified based on this plot\n",
    "digital = digital[digital['date'] >= 1991]\n"
   ]
  },
  {
   "cell_type": "code",
   "execution_count": 180,
   "metadata": {},
   "outputs": [
    {
     "name": "stderr",
     "output_type": "stream",
     "text": [
      "/home/antonia/.conda/envs/my_root/lib/python3.6/site-packages/matplotlib/font_manager.py:1297: UserWarning: findfont: Font family ['sans-serif'] not found. Falling back to DejaVu Sans\n",
      "  (prop.get_family(), self.defaultFamily[fontext]))\n"
     ]
    },
    {
     "data": {
      "text/plain": [
       "<matplotlib.axes._subplots.AxesSubplot at 0x7f81643982e8>"
      ]
     },
     "execution_count": 180,
     "metadata": {},
     "output_type": "execute_result"
    },
    {
     "data": {
      "image/png": "[encoded data removed]",
      "text/plain": [
       "<matplotlib.figure.Figure at 0x7f81643a7978>"
      ]
     },
     "metadata": {},
     "output_type": "display_data"
    }
   ],
   "source": [
    "#take a look at new missing values:\n",
    "sns.heatmap(digital.isnull(),cmap = 'viridis', cbar = False,  yticklabels = False)"
   ]
  },
  {
   "cell_type": "markdown",
   "metadata": {},
   "source": [
    "This nicely takes care of all the missing values from the merge, leaving only Faroe Islands. "
   ]
  },
  {
   "cell_type": "code",
   "execution_count": 181,
   "metadata": {
    "collapsed": true
   },
   "outputs": [],
   "source": [
    "#much better in terms of missing data, now check what the missing data are"
   ]
  },
  {
   "cell_type": "markdown",
   "metadata": {},
   "source": [
    "This does not work, why?\n",
    "impute the data for Denmark to the Faroe Islands\n",
    "digital.loc[digital['country'] == 'Faroe Islands', 'cgroup'] = digital.loc[digital['country'] == 'Denmark', 'cgroup']"
   ]
  },
  {
   "cell_type": "code",
   "execution_count": 182,
   "metadata": {
    "collapsed": true
   },
   "outputs": [],
   "source": [
    "digital.loc[digital['country'] == 'Faroe Islands', 'cgroup'] = 'H'"
   ]
  },
  {
   "cell_type": "code",
   "execution_count": 183,
   "metadata": {},
   "outputs": [
    {
     "data": {
      "text/plain": [
       "date                  1992.369888\n",
       "Access Electricity      61.376758\n",
       "Cellular %               0.292201\n",
       "Fixed broadband %             NaN\n",
       "GDP pcp PPP           5855.426880\n",
       "Landline %              10.067685\n",
       "Secure Servers                NaN\n",
       "Urbanisation            47.041485\n",
       "internet_users                NaN\n",
       "dtype: float64"
      ]
     },
     "execution_count": 183,
     "metadata": {},
     "output_type": "execute_result"
    }
   ],
   "source": [
    "digital[(digital['internet_users'].isnull()) & (\n",
    "    digital['date'] < 1995)].mean()\n"
   ]
  },
  {
   "cell_type": "code",
   "execution_count": 184,
   "metadata": {},
   "outputs": [
    {
     "data": {
      "text/plain": [
       "date                  1993.469014\n",
       "Access Electricity      63.642778\n",
       "Cellular %               1.118764\n",
       "Fixed broadband %        1.309180\n",
       "GDP pcp PPP           5411.023369\n",
       "Landline %              11.386566\n",
       "Secure Servers           6.000000\n",
       "Urbanisation            47.564246\n",
       "internet_users                NaN\n",
       "dtype: float64"
      ]
     },
     "execution_count": 184,
     "metadata": {},
     "output_type": "execute_result"
    }
   ],
   "source": [
    "digital[(digital['internet_users'].isnull()) & (\n",
    "    digital['date'] < 2003)].mean()\n",
    "#up until 2002, when internet_users is NA, then so is fixed broadband % \n",
    "#up until 2001: and also Secure Servers"
   ]
  },
  {
   "cell_type": "code",
   "execution_count": 185,
   "metadata": {},
   "outputs": [
    {
     "data": {
      "text/plain": [
       "date                  1995.733562\n",
       "Access Electricity      70.452999\n",
       "Cellular %               4.026046\n",
       "Fixed broadband %             NaN\n",
       "GDP pcp PPP           8566.908006\n",
       "Landline %              16.786494\n",
       "Secure Servers          27.084507\n",
       "Urbanisation            52.067842\n",
       "internet_users           2.699040\n",
       "dtype: float64"
      ]
     },
     "execution_count": 185,
     "metadata": {},
     "output_type": "execute_result"
    }
   ],
   "source": [
    "digital[(digital['Fixed broadband %'].isnull()) & (\n",
    "    digital['date'] < 2002)].mean()\n",
    "#until 2001 (incl): where fixed broadband is missing, so too is secure servers\n"
   ]
  },
  {
   "cell_type": "markdown",
   "metadata": {},
   "source": [
    "Deleting the countries that have no values at all for one variable:"
   ]
  },
  {
   "cell_type": "code",
   "execution_count": 186,
   "metadata": {},
   "outputs": [],
   "source": [
    "from clean_nan import clean_all_na"
   ]
  },
  {
   "cell_type": "code",
   "execution_count": 187,
   "metadata": {
    "collapsed": true
   },
   "outputs": [],
   "source": [
    "for x in list(digital.columns)[2:10]:\n",
    "    digital = clean_all_na(digital, 'country', x)"
   ]
  },
  {
   "cell_type": "code",
   "execution_count": 188,
   "metadata": {},
   "outputs": [
    {
     "data": {
      "text/html": [
       "<div>\n",
       "<style>\n",
       "    .dataframe thead tr:only-child th {\n",
       "        text-align: right;\n",
       "    }\n",
       "\n",
       "    .dataframe thead th {\n",
       "        text-align: left;\n",
       "    }\n",
       "\n",
       "    .dataframe tbody tr th {\n",
       "        vertical-align: top;\n",
       "    }\n",
       "</style>\n",
       "<table border=\"1\" class=\"dataframe\">\n",
       "  <thead>\n",
       "    <tr style=\"text-align: right;\">\n",
       "      <th></th>\n",
       "      <th>date</th>\n",
       "      <th>Access Electricity</th>\n",
       "      <th>Cellular %</th>\n",
       "      <th>Fixed broadband %</th>\n",
       "      <th>GDP pcp PPP</th>\n",
       "      <th>Landline %</th>\n",
       "      <th>Secure Servers</th>\n",
       "      <th>Urbanisation</th>\n",
       "      <th>internet_users</th>\n",
       "    </tr>\n",
       "  </thead>\n",
       "  <tbody>\n",
       "    <tr>\n",
       "      <th>count</th>\n",
       "      <td>4760.000000</td>\n",
       "      <td>4281.000000</td>\n",
       "      <td>4706.000000</td>\n",
       "      <td>2582.000000</td>\n",
       "      <td>4609.000000</td>\n",
       "      <td>4716.000000</td>\n",
       "      <td>2544.000000</td>\n",
       "      <td>4760.000000</td>\n",
       "      <td>4112.000000</td>\n",
       "    </tr>\n",
       "    <tr>\n",
       "      <th>mean</th>\n",
       "      <td>2003.603151</td>\n",
       "      <td>74.965174</td>\n",
       "      <td>47.593259</td>\n",
       "      <td>8.127566</td>\n",
       "      <td>13725.649134</td>\n",
       "      <td>18.386481</td>\n",
       "      <td>5035.287264</td>\n",
       "      <td>54.723774</td>\n",
       "      <td>22.301736</td>\n",
       "    </tr>\n",
       "    <tr>\n",
       "      <th>std</th>\n",
       "      <td>7.486815</td>\n",
       "      <td>32.991370</td>\n",
       "      <td>52.354724</td>\n",
       "      <td>11.018232</td>\n",
       "      <td>17127.331388</td>\n",
       "      <td>18.871348</td>\n",
       "      <td>31531.731324</td>\n",
       "      <td>24.149608</td>\n",
       "      <td>26.907292</td>\n",
       "    </tr>\n",
       "    <tr>\n",
       "      <th>min</th>\n",
       "      <td>1991.000000</td>\n",
       "      <td>0.013999</td>\n",
       "      <td>0.000000</td>\n",
       "      <td>0.000000</td>\n",
       "      <td>242.001214</td>\n",
       "      <td>0.000000</td>\n",
       "      <td>1.000000</td>\n",
       "      <td>5.491000</td>\n",
       "      <td>0.000000</td>\n",
       "    </tr>\n",
       "    <tr>\n",
       "      <th>25%</th>\n",
       "      <td>1997.000000</td>\n",
       "      <td>51.980549</td>\n",
       "      <td>0.814175</td>\n",
       "      <td>0.160200</td>\n",
       "      <td>2393.315832</td>\n",
       "      <td>2.259420</td>\n",
       "      <td>11.000000</td>\n",
       "      <td>33.802500</td>\n",
       "      <td>1.059273</td>\n",
       "    </tr>\n",
       "    <tr>\n",
       "      <th>50%</th>\n",
       "      <td>2004.000000</td>\n",
       "      <td>94.973044</td>\n",
       "      <td>24.868669</td>\n",
       "      <td>2.345964</td>\n",
       "      <td>7144.218057</td>\n",
       "      <td>11.498102</td>\n",
       "      <td>73.000000</td>\n",
       "      <td>54.740000</td>\n",
       "      <td>8.710000</td>\n",
       "    </tr>\n",
       "    <tr>\n",
       "      <th>75%</th>\n",
       "      <td>2010.000000</td>\n",
       "      <td>100.000000</td>\n",
       "      <td>89.504912</td>\n",
       "      <td>12.675103</td>\n",
       "      <td>18921.211600</td>\n",
       "      <td>29.457233</td>\n",
       "      <td>622.000000</td>\n",
       "      <td>73.933250</td>\n",
       "      <td>38.225000</td>\n",
       "    </tr>\n",
       "    <tr>\n",
       "      <th>max</th>\n",
       "      <td>2016.000000</td>\n",
       "      <td>100.000000</td>\n",
       "      <td>332.090701</td>\n",
       "      <td>61.738849</td>\n",
       "      <td>140037.115597</td>\n",
       "      <td>110.191151</td>\n",
       "      <td>530309.000000</td>\n",
       "      <td>100.000000</td>\n",
       "      <td>98.323610</td>\n",
       "    </tr>\n",
       "  </tbody>\n",
       "</table>\n",
       "</div>"
      ],
      "text/plain": [
       "              date  Access Electricity   Cellular %  Fixed broadband %  \\\n",
       "count  4760.000000         4281.000000  4706.000000        2582.000000   \n",
       "mean   2003.603151           74.965174    47.593259           8.127566   \n",
       "std       7.486815           32.991370    52.354724          11.018232   \n",
       "min    1991.000000            0.013999     0.000000           0.000000   \n",
       "25%    1997.000000           51.980549     0.814175           0.160200   \n",
       "50%    2004.000000           94.973044    24.868669           2.345964   \n",
       "75%    2010.000000          100.000000    89.504912          12.675103   \n",
       "max    2016.000000          100.000000   332.090701          61.738849   \n",
       "\n",
       "         GDP pcp PPP   Landline %  Secure Servers  Urbanisation  \\\n",
       "count    4609.000000  4716.000000     2544.000000   4760.000000   \n",
       "mean    13725.649134    18.386481     5035.287264     54.723774   \n",
       "std     17127.331388    18.871348    31531.731324     24.149608   \n",
       "min       242.001214     0.000000        1.000000      5.491000   \n",
       "25%      2393.315832     2.259420       11.000000     33.802500   \n",
       "50%      7144.218057    11.498102       73.000000     54.740000   \n",
       "75%     18921.211600    29.457233      622.000000     73.933250   \n",
       "max    140037.115597   110.191151   530309.000000    100.000000   \n",
       "\n",
       "       internet_users  \n",
       "count     4112.000000  \n",
       "mean        22.301736  \n",
       "std         26.907292  \n",
       "min          0.000000  \n",
       "25%          1.059273  \n",
       "50%          8.710000  \n",
       "75%         38.225000  \n",
       "max         98.323610  "
      ]
     },
     "execution_count": 188,
     "metadata": {},
     "output_type": "execute_result"
    }
   ],
   "source": [
    "digital.describe()"
   ]
  },
  {
   "cell_type": "code",
   "execution_count": 189,
   "metadata": {},
   "outputs": [
    {
     "name": "stderr",
     "output_type": "stream",
     "text": [
      "/home/antonia/.conda/envs/my_root/lib/python3.6/site-packages/matplotlib/font_manager.py:1297: UserWarning: findfont: Font family ['sans-serif'] not found. Falling back to DejaVu Sans\n",
      "  (prop.get_family(), self.defaultFamily[fontext]))\n"
     ]
    },
    {
     "data": {
      "text/plain": [
       "<matplotlib.axes._subplots.AxesSubplot at 0x7f816462d1d0>"
      ]
     },
     "execution_count": 189,
     "metadata": {},
     "output_type": "execute_result"
    },
    {
     "data": {
      "image/png": "[encoded data removed]",
      "text/plain": [
       "<matplotlib.figure.Figure at 0x7f816462d8d0>"
      ]
     },
     "metadata": {},
     "output_type": "display_data"
    }
   ],
   "source": [
    "sns.heatmap(digital.isnull(), cmap = 'viridis', cbar = False, yticklabels = False)\n",
    "#looks much better, but we still have the problem with fixed broadband and Secure Servers: For each of these, almost half of the data is missing.\n"
   ]
  },
  {
   "cell_type": "markdown",
   "metadata": {},
   "source": [
    "This digital dataframe is ready for panel analysis, but the many missing variables make the explanatory power quite poor. I will nevertheless perform the analysis in the appropriate workbook, for reference"
   ]
  },
  {
   "cell_type": "code",
   "execution_count": 191,
   "metadata": {},
   "outputs": [
    {
     "name": "stdout",
     "output_type": "stream",
     "text": [
      "Stored 'digital' (DataFrame)\n"
     ]
    }
   ],
   "source": [
    "%store digital"
   ]
  },
  {
   "cell_type": "markdown",
   "metadata": {},
   "source": [
    "### Zooming in On the missing values for all variables: \n",
    "Is time or country a better predictor?"
   ]
  },
  {
   "cell_type": "code",
   "execution_count": 163,
   "metadata": {
    "collapsed": true
   },
   "outputs": [],
   "source": [
    "digital['Fixed broadband %'] *= 100\n"
   ]
  },
  {
   "cell_type": "code",
   "execution_count": 164,
   "metadata": {},
   "outputs": [
    {
     "data": {
      "text/html": [
       "<div>\n",
       "<style>\n",
       "    .dataframe thead tr:only-child th {\n",
       "        text-align: right;\n",
       "    }\n",
       "\n",
       "    .dataframe thead th {\n",
       "        text-align: left;\n",
       "    }\n",
       "\n",
       "    .dataframe tbody tr th {\n",
       "        vertical-align: top;\n",
       "    }\n",
       "</style>\n",
       "<table border=\"1\" class=\"dataframe\">\n",
       "  <thead>\n",
       "    <tr style=\"text-align: right;\">\n",
       "      <th></th>\n",
       "      <th>country</th>\n",
       "      <th>date</th>\n",
       "      <th>Access Electricity</th>\n",
       "      <th>Cellular %</th>\n",
       "      <th>Fixed broadband %</th>\n",
       "      <th>GDP pcp PPP</th>\n",
       "      <th>Landline %</th>\n",
       "      <th>Secure Servers</th>\n",
       "      <th>Urbanisation</th>\n",
       "      <th>internet_users</th>\n",
       "      <th>Code</th>\n",
       "      <th>Region</th>\n",
       "      <th>cgroup</th>\n",
       "    </tr>\n",
       "  </thead>\n",
       "  <tbody>\n",
       "    <tr>\n",
       "      <th>0</th>\n",
       "      <td>Afghanistan</td>\n",
       "      <td>2016.0</td>\n",
       "      <td>NaN</td>\n",
       "      <td>66.003744</td>\n",
       "      <td>2.688976</td>\n",
       "      <td>1876.544682</td>\n",
       "      <td>0.348892</td>\n",
       "      <td>49.0</td>\n",
       "      <td>27.132</td>\n",
       "      <td>10.595726</td>\n",
       "      <td>AFG</td>\n",
       "      <td>South Asia</td>\n",
       "      <td>L</td>\n",
       "    </tr>\n",
       "    <tr>\n",
       "      <th>1</th>\n",
       "      <td>Afghanistan</td>\n",
       "      <td>2015.0</td>\n",
       "      <td>NaN</td>\n",
       "      <td>61.577682</td>\n",
       "      <td>2.207969</td>\n",
       "      <td>1861.124332</td>\n",
       "      <td>0.343677</td>\n",
       "      <td>46.0</td>\n",
       "      <td>26.703</td>\n",
       "      <td>8.260000</td>\n",
       "      <td>AFG</td>\n",
       "      <td>South Asia</td>\n",
       "      <td>L</td>\n",
       "    </tr>\n",
       "    <tr>\n",
       "      <th>2</th>\n",
       "      <td>Afghanistan</td>\n",
       "      <td>2014.0</td>\n",
       "      <td>89.500000</td>\n",
       "      <td>58.845471</td>\n",
       "      <td>0.479532</td>\n",
       "      <td>1875.447407</td>\n",
       "      <td>0.325861</td>\n",
       "      <td>32.0</td>\n",
       "      <td>26.282</td>\n",
       "      <td>7.000000</td>\n",
       "      <td>AFG</td>\n",
       "      <td>South Asia</td>\n",
       "      <td>L</td>\n",
       "    </tr>\n",
       "    <tr>\n",
       "      <th>3</th>\n",
       "      <td>Afghanistan</td>\n",
       "      <td>2013.0</td>\n",
       "      <td>75.154373</td>\n",
       "      <td>55.012226</td>\n",
       "      <td>0.490972</td>\n",
       "      <td>1877.411953</td>\n",
       "      <td>0.313466</td>\n",
       "      <td>30.0</td>\n",
       "      <td>25.871</td>\n",
       "      <td>5.900000</td>\n",
       "      <td>AFG</td>\n",
       "      <td>South Asia</td>\n",
       "      <td>L</td>\n",
       "    </tr>\n",
       "    <tr>\n",
       "      <th>4</th>\n",
       "      <td>Afghanistan</td>\n",
       "      <td>2012.0</td>\n",
       "      <td>69.100000</td>\n",
       "      <td>51.434547</td>\n",
       "      <td>0.502942</td>\n",
       "      <td>1873.153946</td>\n",
       "      <td>0.301822</td>\n",
       "      <td>33.0</td>\n",
       "      <td>25.468</td>\n",
       "      <td>5.454545</td>\n",
       "      <td>AFG</td>\n",
       "      <td>South Asia</td>\n",
       "      <td>L</td>\n",
       "    </tr>\n",
       "  </tbody>\n",
       "</table>\n",
       "</div>"
      ],
      "text/plain": [
       "       country    date  Access Electricity  Cellular %  Fixed broadband %  \\\n",
       "0  Afghanistan  2016.0                 NaN   66.003744           2.688976   \n",
       "1  Afghanistan  2015.0                 NaN   61.577682           2.207969   \n",
       "2  Afghanistan  2014.0           89.500000   58.845471           0.479532   \n",
       "3  Afghanistan  2013.0           75.154373   55.012226           0.490972   \n",
       "4  Afghanistan  2012.0           69.100000   51.434547           0.502942   \n",
       "\n",
       "   GDP pcp PPP  Landline %  Secure Servers  Urbanisation  internet_users Code  \\\n",
       "0  1876.544682    0.348892            49.0        27.132       10.595726  AFG   \n",
       "1  1861.124332    0.343677            46.0        26.703        8.260000  AFG   \n",
       "2  1875.447407    0.325861            32.0        26.282        7.000000  AFG   \n",
       "3  1877.411953    0.313466            30.0        25.871        5.900000  AFG   \n",
       "4  1873.153946    0.301822            33.0        25.468        5.454545  AFG   \n",
       "\n",
       "       Region cgroup  \n",
       "0  South Asia      L  \n",
       "1  South Asia      L  \n",
       "2  South Asia      L  \n",
       "3  South Asia      L  \n",
       "4  South Asia      L  "
      ]
     },
     "execution_count": 164,
     "metadata": {},
     "output_type": "execute_result"
    }
   ],
   "source": [
    "digital.head()"
   ]
  },
  {
   "cell_type": "code",
   "execution_count": 165,
   "metadata": {},
   "outputs": [
    {
     "name": "stderr",
     "output_type": "stream",
     "text": [
      "/home/antonia/.conda/envs/my_root/lib/python3.6/site-packages/matplotlib/font_manager.py:1297: UserWarning: findfont: Font family ['sans-serif'] not found. Falling back to DejaVu Sans\n",
      "  (prop.get_family(), self.defaultFamily[fontext]))\n"
     ]
    },
    {
     "data": {
      "image/png": "[encoded data removed]",
      "text/plain": [
       "<matplotlib.figure.Figure at 0x7f8164d76f98>"
      ]
     },
     "metadata": {},
     "output_type": "display_data"
    },
    {
     "data": {
      "image/png": "[encoded data removed]",
      "text/plain": [
       "<matplotlib.figure.Figure at 0x7f8164cebef0>"
      ]
     },
     "metadata": {},
     "output_type": "display_data"
    },
    {
     "data": {
      "image/png": "[encoded data removed]",
      "text/plain": [
       "<matplotlib.figure.Figure at 0x7f8164bcdf98>"
      ]
     },
     "metadata": {},
     "output_type": "display_data"
    },
    {
     "data": {
      "image/png": "[encoded data removed]",
      "text/plain": [
       "<matplotlib.figure.Figure at 0x7f8164b1af60>"
      ]
     },
     "metadata": {},
     "output_type": "display_data"
    },
    {
     "data": {
      "image/png": "[encoded data removed]",
      "text/plain": [
       "<matplotlib.figure.Figure at 0x7f8164a6cda0>"
      ]
     },
     "metadata": {},
     "output_type": "display_data"
    },
    {
     "data": {
      "image/png": "[encoded data removed]",
      "text/plain": [
       "<matplotlib.figure.Figure at 0x7f81649563c8>"
      ]
     },
     "metadata": {},
     "output_type": "display_data"
    },
    {
     "data": {
      "image/png": "[encoded data removed]",
      "text/plain": [
       "<matplotlib.figure.Figure at 0x7f81648a0f28>"
      ]
     },
     "metadata": {},
     "output_type": "display_data"
    },
    {
     "data": {
      "image/png": "[encoded data removed]",
      "text/plain": [
       "<matplotlib.figure.Figure at 0x7f81647f7438>"
      ]
     },
     "metadata": {},
     "output_type": "display_data"
    },
    {
     "data": {
      "image/png": "[encoded data removed]",
      "text/plain": [
       "<matplotlib.figure.Figure at 0x7f816472eeb8>"
      ]
     },
     "metadata": {},
     "output_type": "display_data"
    },
    {
     "data": {
      "image/png": "[encoded data removed]",
      "text/plain": [
       "<matplotlib.figure.Figure at 0x7f81646bb940>"
      ]
     },
     "metadata": {},
     "output_type": "display_data"
    },
    {
     "data": {
      "image/png": "[encoded data removed]",
      "text/plain": [
       "<matplotlib.figure.Figure at 0x7f8164d6fd30>"
      ]
     },
     "metadata": {},
     "output_type": "display_data"
    }
   ],
   "source": [
    "##check missing values for each variable by year and country:\n",
    "for i, x in enumerate(digital.columns[2:]):\n",
    "    plt.figure(i)\n",
    "    ax = plt.axes()\n",
    "    \n",
    "    sns.heatmap(digital[['country', 'date', x]].pivot(\n",
    "    index = 'country', columns = 'date', values = x).isnull(), cmap = 'viridis', cbar = False, yticklabels = False, ax = ax)\n",
    "    ax.set_title(x)\n"
   ]
  },
  {
   "cell_type": "markdown",
   "metadata": {},
   "source": [
    "Access Electricity: Missing for 2015 and 2016, some countries have parts of it missing before 2005, one country missing until 2007\n",
    "Cellular %: no clear pattern emerging, should be able to impute data\n",
    "Fixed broadband: data missing until 1998, still ofthen missing until 2003\n",
    "GDP: missing for some countries over a number of years, look whether I can get this from other source\n",
    "Landline %: One country missing for almost all of 2005, the rest should be imputable after 2003\n",
    "Secure Servers: \n",
    "Data completele missing until 2000 and in 2001. Less missing dara starting in 2004/2005\n",
    "internet_users: mostly available after 1996\n",
    "\n",
    "#for econometric: use data from 2005? \n",
    "for visualization: 1996"
   ]
  },
  {
   "cell_type": "code",
   "execution_count": null,
   "metadata": {
    "collapsed": true
   },
   "outputs": [],
   "source": [
    "digital_2005 = digital[digital['date'] >= 2005]\n",
    "sns.heatmap(digital_2005.isnull(), cmap = 'viridis', cbar = False, xticklabels = False, yticklabels = False)\n"
   ]
  },
  {
   "cell_type": "code",
   "execution_count": null,
   "metadata": {
    "collapsed": true
   },
   "outputs": [],
   "source": [
    "digital_1996 = digital[digital['date'] >= 1996]\n",
    "sns.heatmap(digital_1996.isnull(), cmap = 'viridis', cbar = False, yticklabels = False\n",
    "    )"
   ]
  },
  {
   "cell_type": "code",
   "execution_count": null,
   "metadata": {
    "collapsed": true
   },
   "outputs": [],
   "source": [
    "#now we can try to impute the missing valuesimpute the missing values everywhere but Access Electricity"
   ]
  },
  {
   "cell_type": "code",
   "execution_count": null,
   "metadata": {
    "collapsed": true
   },
   "outputs": [],
   "source": [
    "#first, transform data to multi-index\n",
    "mi = digital_1996.set_index(['date', 'country'])\n"
   ]
  },
  {
   "cell_type": "markdown",
   "metadata": {},
   "source": [
    "Strategy for filling in missing values:\n",
    "First, if there are no values before, and it makes sense: 0\n",
    "Second, if I have the value before and after, take the mean\n",
    "(Third) Access Electricity could be interpolated"
   ]
  },
  {
   "cell_type": "code",
   "execution_count": null,
   "metadata": {
    "collapsed": true
   },
   "outputs": [],
   "source": [
    "mi.sort_index(inplace=True)"
   ]
  },
  {
   "cell_type": "code",
   "execution_count": null,
   "metadata": {
    "collapsed": true
   },
   "outputs": [],
   "source": [
    "mi.loc[(1996, \"Zimbabwe\"), \"Access Electricity\"]"
   ]
  },
  {
   "cell_type": "code",
   "execution_count": null,
   "metadata": {
    "collapsed": true
   },
   "outputs": [],
   "source": [
    "from clean_nan import clean_nan\n",
    "cleaned = clean_nan(mi, mi.columns[0:7])"
   ]
  },
  {
   "cell_type": "code",
   "execution_count": null,
   "metadata": {
    "collapsed": true
   },
   "outputs": [],
   "source": []
  }
 ],
 "metadata": {
  "kernelspec": {
   "display_name": "Python 3",
   "language": "python",
   "name": "python3"
  },
  "language_info": {
   "codemirror_mode": {
    "name": "ipython",
    "version": 3
   },
   "file_extension": ".py",
   "mimetype": "text/x-python",
   "name": "python",
   "nbconvert_exporter": "python",
   "pygments_lexer": "ipython3",
   "version": "3.6.1"
  }
 },
 "nbformat": 4,
 "nbformat_minor": 2
}
